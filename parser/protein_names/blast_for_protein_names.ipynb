{
 "cells": [
  {
   "cell_type": "code",
   "execution_count": null,
   "id": "9e1d7065",
   "metadata": {},
   "outputs": [],
   "source": [
    "from Bio.Blast import NCBIWWW\n",
    "from Bio.Blast import NCBIXML\n",
    "import csv\n",
    "import time\n",
    "import ssl"
   ]
  },
  {
   "cell_type": "code",
   "execution_count": null,
   "id": "78ddd357",
   "metadata": {},
   "outputs": [
    {
     "name": "stdout",
     "output_type": "stream",
     "text": [
      "[15:00:26] Progress: 1/466 (0.2%) ETA: 00:00:00"
     ]
    },
    {
     "name": "stderr",
     "output_type": "stream",
     "text": [
      "c:\\Users\\anna6\\OneDrive\\Документы\\Blast_for_prot_names\\.venv\\lib\\site-packages\\Bio\\Blast\\NCBIWWW.py:275: BiopythonWarning: BLAST request 0W72BT8W016 is taking longer than 10 minutes, consider re-issuing it\n",
      "  warnings.warn(\n"
     ]
    },
    {
     "name": "stdout",
     "output_type": "stream",
     "text": [
      "<_io.StringIO object at 0x0000025857473790>\n",
      "[15:15:32] Progress: 2/466 (0.4%) ETA: 10:25:29<_io.StringIO object at 0x0000025857473790>\n",
      "[15:17:52] Progress: 3/466 (0.6%) ETA: 20:52:16<_io.StringIO object at 0x0000025857473790>\n",
      "[15:27:12] Progress: 4/466 (0.9%) ETA: 03:32:41"
     ]
    },
    {
     "name": "stderr",
     "output_type": "stream",
     "text": [
      "c:\\Users\\anna6\\OneDrive\\Документы\\Blast_for_prot_names\\.venv\\lib\\site-packages\\Bio\\Blast\\NCBIWWW.py:275: BiopythonWarning: BLAST request 0W8MHPEV016 is taking longer than 10 minutes, consider re-issuing it\n",
      "  warnings.warn(\n"
     ]
    },
    {
     "name": "stdout",
     "output_type": "stream",
     "text": [
      "<_io.StringIO object at 0x0000025857473790>\n",
      "[15:46:32] Progress: 5/466 (1.1%) ETA: 22:51:19<_io.StringIO object at 0x0000025857473790>\n",
      "[15:47:52] Progress: 6/466 (1.3%) ETA: 12:37:23<_io.StringIO object at 0x0000025857473790>\n",
      "[15:57:13] Progress: 7/466 (1.5%) ETA: 14:03:51<_io.StringIO object at 0x0000025857473790>\n",
      "[16:01:32] Progress: 8/466 (1.7%) ETA: 10:18:32<_io.StringIO object at 0x0000025857473790>\n",
      "[16:03:52] Progress: 9/466 (1.9%) ETA: 05:41:30<_io.StringIO object at 0x0000025857473790>\n",
      "[16:06:12] Progress: 10/466 (2.1%) ETA: 01:59:23<_io.StringIO object at 0x0000025857473790>\n",
      "[16:08:32] Progress: 11/466 (2.4%) ETA: 22:57:14<_io.StringIO object at 0x0000025857473790>\n",
      "[16:10:52] Progress: 12/466 (2.6%) ETA: 20:25:10<_io.StringIO object at 0x0000025857473790>\n",
      "[16:13:12] Progress: 13/466 (2.8%) ETA: 18:15:58<_io.StringIO object at 0x0000025857473790>\n",
      "[16:15:32] Progress: 14/466 (3.0%) ETA: 16:24:58<_io.StringIO object at 0x0000025857473790>\n",
      "[16:17:52] Progress: 15/466 (3.2%) ETA: 14:48:26<_io.StringIO object at 0x000002585748DE50>\n",
      "[16:20:12] Progress: 16/466 (3.4%) ETA: 13:23:42<_io.StringIO object at 0x000002585748DEE0>\n",
      "[16:22:32] Progress: 17/466 (3.6%) ETA: 12:08:38<_io.StringIO object at 0x0000025857473790>\n",
      "[16:27:52] Progress: 18/466 (3.9%) ETA: 12:16:21<_io.StringIO object at 0x0000025857473790>\n",
      "[16:30:12] Progress: 19/466 (4.1%) ETA: 11:12:06<_io.StringIO object at 0x0000025857473790>\n",
      "[16:32:32] Progress: 20/466 (4.3%) ETA: 10:14:06<_io.StringIO object at 0x0000025857473790>\n",
      "[16:34:52] Progress: 21/466 (4.5%) ETA: 09:21:17<_io.StringIO object at 0x0000025857473790>\n",
      "[16:37:12] Progress: 22/466 (4.7%) ETA: 08:33:06<_io.StringIO object at 0x000002585748DF70>\n",
      "[16:39:32] Progress: 23/466 (4.9%) ETA: 07:48:56<_io.StringIO object at 0x000002585748DF70>\n",
      "[16:43:52] Progress: 24/466 (5.2%) ETA: 07:45:03<_io.StringIO object at 0x000002585748DF70>\n",
      "[16:46:12] Progress: 25/466 (5.4%) ETA: 07:05:53<_io.StringIO object at 0x0000025857473790>\n",
      "[16:49:32] Progress: 26/466 (5.6%) ETA: 06:46:30<_io.StringIO object at 0x000002585748DF70>\n",
      "[16:51:52] Progress: 27/466 (5.8%) ETA: 06:11:58<_io.StringIO object at 0x000002585748DF70>\n",
      "[16:54:12] Progress: 28/466 (6.0%) ETA: 05:39:50<_io.StringIO object at 0x0000025857473790>\n",
      "[16:56:32] Progress: 29/466 (6.2%) ETA: 05:09:39<_io.StringIO object at 0x0000025857473790>\n",
      "[16:59:53] Progress: 30/466 (6.4%) ETA: 04:55:58<_io.StringIO object at 0x0000025857473790>\n",
      "[17:02:12] Progress: 31/466 (6.7%) ETA: 04:28:47<_io.StringIO object at 0x0000025857473790>\n",
      "[17:06:32] Progress: 32/466 (6.9%) ETA: 04:30:22<_io.StringIO object at 0x0000025857473790>\n",
      "[17:08:53] Progress: 33/466 (7.1%) ETA: 04:05:26<_io.StringIO object at 0x0000025857473790>\n",
      "[17:12:12] Progress: 34/466 (7.3%) ETA: 03:54:20<_io.StringIO object at 0x0000025857473790>\n",
      "[17:14:32] Progress: 35/466 (7.5%) ETA: 03:31:27<_io.StringIO object at 0x000002585748DE50>\n",
      "[17:16:52] Progress: 36/466 (7.7%) ETA: 03:09:45<_io.StringIO object at 0x0000025857473790>\n",
      "[17:18:12] Progress: 37/466 (7.9%) ETA: 02:37:28<_io.StringIO object at 0x000002585748DEE0>\n",
      "[17:21:32] Progress: 38/466 (8.2%) ETA: 02:29:20<_io.StringIO object at 0x0000025857473790>\n",
      "[17:22:52] Progress: 39/466 (8.4%) ETA: 01:59:34<_io.StringIO object at 0x000002585748DE50>\n",
      "[17:25:12] Progress: 40/466 (8.6%) ETA: 01:41:51<_io.StringIO object at 0x0000025857473790>\n",
      "[17:26:32] Progress: 41/466 (8.8%) ETA: 01:14:33<_io.StringIO object at 0x000002585748DEE0>\n",
      "[17:30:52] Progress: 42/466 (9.0%) ETA: 01:18:45<_io.StringIO object at 0x000002585748DEE0>\n",
      "[17:33:12] Progress: 43/466 (9.2%) ETA: 01:02:53<_io.StringIO object at 0x000002585748DEE0>\n",
      "[17:35:32] Progress: 44/466 (9.4%) ETA: 00:47:38<_io.StringIO object at 0x000002585748DE50>\n",
      "[17:37:53] Progress: 45/466 (9.7%) ETA: 00:33:00<_io.StringIO object at 0x000002585748DF70>\n",
      "[17:41:12] Progress: 46/466 (9.9%) ETA: 00:27:58<_io.StringIO object at 0x000002585748DEE0>\n",
      "[17:42:32] Progress: 47/466 (10.1%) ETA: 00:05:11<_io.StringIO object at 0x0000025857473790>\n",
      "[17:44:52] Progress: 48/466 (10.3%) ETA: 23:52:01<_io.StringIO object at 0x000002585748DF70>\n",
      "[17:49:12] Progress: 49/466 (10.5%) ETA: 23:56:19<_io.StringIO object at 0x0000025857473790>\n",
      "[17:53:32] Progress: 50/466 (10.7%) ETA: 00:00:17"
     ]
    },
    {
     "name": "stderr",
     "output_type": "stream",
     "text": [
      "Exception ignored in: <generator object parse at 0x0000025857429DD0>\n",
      "Traceback (most recent call last):\n",
      "  File \"c:\\Users\\anna6\\OneDrive\\Документы\\Blast_for_prot_names\\.venv\\lib\\site-packages\\Bio\\Blast\\NCBIXML.py\", line 1319, in parse\n",
      "    expat_parser.Parse(NULL, True)\n",
      "xml.parsers.expat.ExpatError: unclosed token: line 88, column 0\n"
     ]
    },
    {
     "name": "stdout",
     "output_type": "stream",
     "text": [
      "<_io.StringIO object at 0x000002585748DF70>\n",
      "[17:56:52] Progress: 51/466 (10.9%) ETA: 23:55:45<_io.StringIO object at 0x000002585748DEE0>\n",
      "[18:00:12] Progress: 52/466 (11.2%) ETA: 23:51:18<_io.StringIO object at 0x000002585748DF70>\n",
      "[18:03:32] Progress: 53/466 (11.4%) ETA: 23:46:52<_io.StringIO object at 0x0000025857473790>\n",
      "[18:05:52] Progress: 54/466 (11.6%) ETA: 23:34:52<_io.StringIO object at 0x0000025857473790>\n",
      "[18:12:12] Progress: 55/466 (11.8%) ETA: 23:53:06<_io.StringIO object at 0x0000025857473790>\n",
      "[18:16:32] Progress: 56/466 (12.0%) ETA: 23:55:48<_io.StringIO object at 0x0000025857473790>\n",
      "[18:18:52] Progress: 57/466 (12.2%) ETA: 23:43:54<_io.StringIO object at 0x0000025857473790>\n",
      "[18:23:12] Progress: 58/466 (12.4%) ETA: 23:46:25<_io.StringIO object at 0x0000025857473790>\n",
      "[18:25:32] Progress: 59/466 (12.7%) ETA: 23:34:54<_io.StringIO object at 0x0000025857473790>\n",
      "[18:29:52] Progress: 60/466 (12.9%) ETA: 23:37:13"
     ]
    },
    {
     "name": "stderr",
     "output_type": "stream",
     "text": [
      "c:\\Users\\anna6\\OneDrive\\Документы\\Blast_for_prot_names\\.venv\\lib\\site-packages\\Bio\\Blast\\NCBIWWW.py:275: BiopythonWarning: BLAST request 0WKB2P62013 is taking longer than 10 minutes, consider re-issuing it\n",
      "  warnings.warn(\n"
     ]
    },
    {
     "name": "stdout",
     "output_type": "stream",
     "text": [
      "<_io.StringIO object at 0x000002585748DEE0>\n",
      "[19:16:12] Progress: 61/466 (13.1%) ETA: 04:18:12<_io.StringIO object at 0x000002585748DEE0>\n",
      "[19:20:32] Progress: 62/466 (13.3%) ETA: 04:14:54<_io.StringIO object at 0x000002585748DF70>\n",
      "[19:23:52] Progress: 63/466 (13.5%) ETA: 04:05:11<_io.StringIO object at 0x000002585748DF70>\n",
      "[19:26:12] Progress: 64/466 (13.7%) ETA: 03:49:24<_io.StringIO object at 0x000002585748DEE0>\n",
      "[19:28:32] Progress: 65/466 (13.9%) ETA: 03:34:01<_io.StringIO object at 0x000002585748DE50>\n",
      "[19:30:52] Progress: 66/466 (14.2%) ETA: 03:19:02<_io.StringIO object at 0x000002585748DF70>\n",
      "[19:32:57] Progress: 67/466 (14.4%) ETA: 03:02:57<_io.StringIO object at 0x000002585748DF70>\n",
      "[19:35:32] Progress: 68/466 (14.6%) ETA: 02:50:11<_io.StringIO object at 0x000002585748DE50>\n",
      "[19:37:52] Progress: 69/466 (14.8%) ETA: 02:36:17"
     ]
    },
    {
     "name": "stderr",
     "output_type": "stream",
     "text": [
      "c:\\Users\\anna6\\OneDrive\\Документы\\Blast_for_prot_names\\.venv\\lib\\site-packages\\Bio\\Blast\\NCBIWWW.py:275: BiopythonWarning: BLAST request 0WRB1VGZ016 is taking longer than 10 minutes, consider re-issuing it\n",
      "  warnings.warn(\n"
     ]
    },
    {
     "name": "stdout",
     "output_type": "stream",
     "text": [
      "<_io.StringIO object at 0x000002585748DF70>\n",
      "[19:48:12] Progress: 70/466 (15.0%) ETA: 03:07:59<_io.StringIO object at 0x000002585748DF70>\n",
      "[19:51:32] Progress: 71/466 (15.2%) ETA: 02:59:33<_io.StringIO object at 0x000002585748DF70>\n",
      "[19:53:52] Progress: 72/466 (15.5%) ETA: 02:45:47<_io.StringIO object at 0x000002585748DE50>\n",
      "[19:56:12] Progress: 73/466 (15.7%) ETA: 02:32:19<_io.StringIO object at 0x000002585748DE50>\n",
      "[19:58:32] Progress: 74/466 (15.9%) ETA: 02:19:10<_io.StringIO object at 0x000002585748DE50>\n",
      "[19:59:52] Progress: 75/466 (16.1%) ETA: 02:01:05<_io.StringIO object at 0x000002585748DE50>\n",
      "[20:02:12] Progress: 76/466 (16.3%) ETA: 01:48:35<_io.StringIO object at 0x000002585748DE50>\n",
      "[20:07:32] Progress: 77/466 (16.5%) ETA: 01:51:30<_io.StringIO object at 0x000002585748DE50>\n",
      "[20:10:52] Progress: 78/466 (16.7%) ETA: 01:44:15<_io.StringIO object at 0x000002585748DF70>\n",
      "[20:13:12] Progress: 79/466 (17.0%) ETA: 01:32:12<_io.StringIO object at 0x000002585748DF70>\n",
      "[20:16:32] Progress: 80/466 (17.2%) ETA: 01:25:13<_io.StringIO object at 0x000002585748DE50>\n",
      "[20:21:52] Progress: 81/466 (17.4%) ETA: 01:27:51<_io.StringIO object at 0x000002585748DE50>\n",
      "[20:27:12] Progress: 82/466 (17.6%) ETA: 01:30:15<_io.StringIO object at 0x000002585748DF70>\n",
      "[20:31:32] Progress: 83/466 (17.8%) ETA: 01:27:54<_io.StringIO object at 0x000002585748DF70>\n",
      "[20:33:52] Progress: 84/466 (18.0%) ETA: 01:16:22<_io.StringIO object at 0x000002585748DF70>\n",
      "[20:37:12] Progress: 85/466 (18.2%) ETA: 01:09:33<_io.StringIO object at 0x000002585748DF70>\n",
      "[20:40:32] Progress: 86/466 (18.5%) ETA: 01:02:48<_io.StringIO object at 0x000002585748DF70>\n",
      "[20:41:52] Progress: 87/466 (18.7%) ETA: 00:47:26<_io.StringIO object at 0x000002585748DF70>\n",
      "[20:44:12] Progress: 88/466 (18.9%) ETA: 00:36:40<_io.StringIO object at 0x000002585748DF70>\n",
      "[20:45:32] Progress: 89/466 (19.1%) ETA: 00:21:52<_io.StringIO object at 0x000002585748DF70>\n",
      "[20:46:52] Progress: 90/466 (19.3%) ETA: 00:07:21<_io.StringIO object at 0x000002585748DF70>\n",
      "[20:51:12] Progress: 91/466 (19.5%) ETA: 00:05:30<_io.StringIO object at 0x000002585748DF70>\n",
      "[20:54:32] Progress: 92/466 (19.7%) ETA: 23:59:32<_io.StringIO object at 0x000002585748DF70>\n",
      "[20:56:52] Progress: 93/466 (20.0%) ETA: 23:49:36<_io.StringIO object at 0x00000258574AC040>\n",
      "[21:01:12] Progress: 94/466 (20.2%) ETA: 23:47:45<_io.StringIO object at 0x000002585749E040>\n",
      "[21:06:32] Progress: 95/466 (20.4%) ETA: 23:49:45<_io.StringIO object at 0x00000258574AC040>\n",
      "[21:09:52] Progress: 96/466 (20.6%) ETA: 23:43:53<_io.StringIO object at 0x00000258574AE040>\n",
      "[21:14:13] Progress: 97/466 (20.8%) ETA: 23:41:55<_io.StringIO object at 0x00000258574AB040>\n",
      "[21:19:32] Progress: 98/466 (21.0%) ETA: 23:43:36<_io.StringIO object at 0x00000258574AB4C0>\n",
      "[21:26:52] Progress: 99/466 (21.2%) ETA: 23:52:34<_io.StringIO object at 0x00000258574AB430>\n",
      "[21:31:12] Progress: 100/466 (21.5%) ETA: 23:50:14<_io.StringIO object at 0x00000258574AB160>\n",
      "[21:35:32] Progress: 101/466 (21.7%) ETA: 23:47:52<_io.StringIO object at 0x00000258574AB160>\n",
      "[21:37:52] Progress: 102/466 (21.9%) ETA: 23:38:19<_io.StringIO object at 0x00000258574AB430>\n",
      "[21:42:12] Progress: 103/466 (22.1%) ETA: 23:35:58<_io.StringIO object at 0x00000258574AB040>\n",
      "[21:47:32] Progress: 104/466 (22.3%) ETA: 23:37:03<_io.StringIO object at 0x000002585749E040>\n",
      "[21:49:52] Progress: 105/466 (22.5%) ETA: 23:27:42<_io.StringIO object at 0x000002585749E040>\n",
      "[21:53:12] Progress: 106/466 (22.7%) ETA: 23:21:52<_io.StringIO object at 0x000002585749E160>\n",
      "[21:55:32] Progress: 107/466 (23.0%) ETA: 23:12:45<_io.StringIO object at 0x000002585749E160>\n",
      "[21:57:52] Progress: 108/466 (23.2%) ETA: 23:03:45<_io.StringIO object at 0x000002585749E040>\n",
      "[22:00:12] Progress: 109/466 (23.4%) ETA: 22:54:51<_io.StringIO object at 0x000002585749E1F0>\n",
      "[22:01:32] Progress: 110/466 (23.6%) ETA: 22:42:51<_io.StringIO object at 0x000002585749E0D0>\n",
      "[22:04:52] Progress: 111/466 (23.8%) ETA: 22:37:27<_io.StringIO object at 0x000002585749E040>\n",
      "[22:08:12] Progress: 112/466 (24.0%) ETA: 22:32:05<_io.StringIO object at 0x00000258574AC040>\n",
      "[22:11:32] Progress: 113/466 (24.2%) ETA: 22:26:44<_io.StringIO object at 0x000002585749E040>\n",
      "[22:14:52] Progress: 114/466 (24.5%) ETA: 22:21:26"
     ]
    },
    {
     "name": "stderr",
     "output_type": "stream",
     "text": [
      "Exception ignored in: <generator object parse at 0x0000025857429DD0>\n",
      "Traceback (most recent call last):\n",
      "  File \"c:\\Users\\anna6\\OneDrive\\Документы\\Blast_for_prot_names\\.venv\\lib\\site-packages\\Bio\\Blast\\NCBIXML.py\", line 1319, in parse\n",
      "    expat_parser.Parse(NULL, True)\n",
      "xml.parsers.expat.ExpatError: no element found: line 87, column 12\n"
     ]
    },
    {
     "name": "stdout",
     "output_type": "stream",
     "text": [
      "<_io.StringIO object at 0x00000258574AC040>\n",
      "[22:17:12] Progress: 115/466 (24.7%) ETA: 22:13:07<_io.StringIO object at 0x00000258574AD040>\n",
      "[22:19:33] Progress: 116/466 (24.9%) ETA: 22:04:54<_io.StringIO object at 0x00000258574AB040>\n",
      "[22:21:52] Progress: 117/466 (25.1%) ETA: 21:56:46<_io.StringIO object at 0x00000258574AB040>\n",
      "[22:25:12] Progress: 118/466 (25.3%) ETA: 21:51:43<_io.StringIO object at 0x00000258574AB040>\n",
      "[22:29:32] Progress: 119/466 (25.5%) ETA: 21:49:35"
     ]
    },
    {
     "name": "stderr",
     "output_type": "stream",
     "text": [
      "Exception ignored in: <generator object parse at 0x0000025857429DD0>\n",
      "Traceback (most recent call last):\n",
      "  File \"c:\\Users\\anna6\\OneDrive\\Документы\\Blast_for_prot_names\\.venv\\lib\\site-packages\\Bio\\Blast\\NCBIXML.py\", line 1319, in parse\n",
      "    expat_parser.Parse(NULL, True)\n",
      "xml.parsers.expat.ExpatError: unclosed token: line 88, column 0\n"
     ]
    },
    {
     "name": "stdout",
     "output_type": "stream",
     "text": [
      "<_io.StringIO object at 0x00000258574AD040>\n",
      "[22:32:52] Progress: 120/466 (25.8%) ETA: 21:44:32<_io.StringIO object at 0x00000258574AB040>\n",
      "[22:37:12] Progress: 121/466 (26.0%) ETA: 21:42:22<_io.StringIO object at 0x00000258574AB040>\n",
      "[22:39:32] Progress: 122/466 (26.2%) ETA: 21:34:32<_io.StringIO object at 0x00000258574AD040>\n",
      "[22:40:52] Progress: 123/466 (26.4%) ETA: 21:23:59<_io.StringIO object at 0x000002585749E040>\n",
      "[22:44:12] Progress: 124/466 (26.6%) ETA: 21:19:07"
     ]
    },
    {
     "name": "stderr",
     "output_type": "stream",
     "text": [
      "c:\\Users\\anna6\\OneDrive\\Документы\\Blast_for_prot_names\\.venv\\lib\\site-packages\\Bio\\Blast\\NCBIWWW.py:275: BiopythonWarning: BLAST request 0X28D27E016 is taking longer than 10 minutes, consider re-issuing it\n",
      "  warnings.warn(\n"
     ]
    },
    {
     "name": "stdout",
     "output_type": "stream",
     "text": [
      "<_io.StringIO object at 0x000002585749E160>\n",
      "[22:57:32] Progress: 125/466 (26.8%) ETA: 21:41:33<_io.StringIO object at 0x000002585749E1F0>\n",
      "[22:58:52] Progress: 126/466 (27.0%) ETA: 21:31:02<_io.StringIO object at 0x000002585749E1F0>\n",
      "[23:00:12] Progress: 127/466 (27.3%) ETA: 21:20:39<_io.StringIO object at 0x000002585749E1F0>\n",
      "[23:02:32] Progress: 128/466 (27.5%) ETA: 21:13:04<_io.StringIO object at 0x000002585749E1F0>\n",
      "[23:03:52] Progress: 129/466 (27.7%) ETA: 21:02:56<_io.StringIO object at 0x000002585749E0D0>\n",
      "[23:05:12] Progress: 130/466 (27.9%) ETA: 20:52:57<_io.StringIO object at 0x000002585749E160>\n",
      "[23:07:32] Progress: 131/466 (28.1%) ETA: 20:45:39"
     ]
    },
    {
     "name": "stderr",
     "output_type": "stream",
     "text": [
      "c:\\Users\\anna6\\OneDrive\\Документы\\Blast_for_prot_names\\.venv\\lib\\site-packages\\Bio\\Blast\\NCBIWWW.py:275: BiopythonWarning: BLAST request 0X3M5PUW016 is taking longer than 10 minutes, consider re-issuing it\n",
      "  warnings.warn(\n"
     ]
    },
    {
     "name": "stdout",
     "output_type": "stream",
     "text": [
      "<_io.StringIO object at 0x000002585749E1F0>\n",
      "[23:20:52] Progress: 132/466 (28.3%) ETA: 21:06:16<_io.StringIO object at 0x000002585749E280>\n",
      "[23:24:12] Progress: 133/466 (28.5%) ETA: 21:01:19"
     ]
    },
    {
     "name": "stderr",
     "output_type": "stream",
     "text": [
      "c:\\Users\\anna6\\OneDrive\\Документы\\Blast_for_prot_names\\.venv\\lib\\site-packages\\Bio\\Blast\\NCBIWWW.py:275: BiopythonWarning: BLAST request 0X4KD7JJ016 is taking longer than 10 minutes, consider re-issuing it\n",
      "  warnings.warn(\n"
     ]
    },
    {
     "name": "stdout",
     "output_type": "stream",
     "text": [
      "<_io.StringIO object at 0x000002585749E0D0>\n",
      "[23:35:32] Progress: 134/466 (28.8%) ETA: 21:16:14<_io.StringIO object at 0x000002585749E0D0>\n",
      "[23:36:52] Progress: 135/466 (29.0%) ETA: 21:06:14<_io.StringIO object at 0x000002585749E280>\n",
      "[23:40:12] Progress: 136/466 (29.2%) ETA: 21:01:13<_io.StringIO object at 0x000002585749E310>\n",
      "[23:43:32] Progress: 137/466 (29.4%) ETA: 20:56:14<_io.StringIO object at 0x000002585749E0D0>\n",
      "[23:45:52] Progress: 138/466 (29.6%) ETA: 20:48:52<_io.StringIO object at 0x000002585749E0D0>\n",
      "[23:49:12] Progress: 139/466 (29.8%) ETA: 20:43:57<_io.StringIO object at 0x000002585749E310>\n",
      "[23:51:32] Progress: 140/466 (30.0%) ETA: 20:36:43"
     ]
    },
    {
     "name": "stderr",
     "output_type": "stream",
     "text": [
      "c:\\Users\\anna6\\OneDrive\\Документы\\Blast_for_prot_names\\.venv\\lib\\site-packages\\Bio\\Blast\\NCBIWWW.py:275: BiopythonWarning: BLAST request 0X66NFMU016 is taking longer than 10 minutes, consider re-issuing it\n",
      "  warnings.warn(\n"
     ]
    },
    {
     "name": "stdout",
     "output_type": "stream",
     "text": [
      "<_io.StringIO object at 0x000002585749E0D0>\n",
      "[01:30:52] Progress: 141/466 (30.3%) ETA: 00:13:08"
     ]
    },
    {
     "name": "stderr",
     "output_type": "stream",
     "text": [
      "c:\\Users\\anna6\\OneDrive\\Документы\\Blast_for_prot_names\\.venv\\lib\\site-packages\\Bio\\Blast\\NCBIWWW.py:275: BiopythonWarning: BLAST request 0XC0XAJ5016 is taking longer than 10 minutes, consider re-issuing it\n",
      "  warnings.warn(\n"
     ]
    },
    {
     "name": "stdout",
     "output_type": "stream",
     "text": [
      "<_io.StringIO object at 0x000002585749E310>\n",
      "[01:47:12] Progress: 142/466 (30.5%) ETA: 00:35:44"
     ]
    },
    {
     "name": "stderr",
     "output_type": "stream",
     "text": [
      "c:\\Users\\anna6\\OneDrive\\Документы\\Blast_for_prot_names\\.venv\\lib\\site-packages\\Bio\\Blast\\NCBIWWW.py:275: BiopythonWarning: BLAST request 0XCZHXK3016 is taking longer than 10 minutes, consider re-issuing it\n",
      "  warnings.warn(\n"
     ]
    },
    {
     "name": "stdout",
     "output_type": "stream",
     "text": [
      "<_io.StringIO object at 0x000002585749E0D0>\n",
      "[02:06:32] Progress: 143/466 (30.7%) ETA: 01:04:34"
     ]
    },
    {
     "name": "stderr",
     "output_type": "stream",
     "text": [
      "c:\\Users\\anna6\\OneDrive\\Документы\\Blast_for_prot_names\\.venv\\lib\\site-packages\\Bio\\Blast\\NCBIWWW.py:275: BiopythonWarning: BLAST request 0XE3TUFS016 is taking longer than 10 minutes, consider re-issuing it\n",
      "  warnings.warn(\n"
     ]
    },
    {
     "name": "stdout",
     "output_type": "stream",
     "text": [
      "<_io.StringIO object at 0x000002585749E4C0>\n",
      "[02:26:52] Progress: 144/466 (30.9%) ETA: 01:34:57<_io.StringIO object at 0x000002585749E5E0>\n",
      "[02:35:12] Progress: 145/466 (31.1%) ETA: 01:38:05"
     ]
    },
    {
     "name": "stderr",
     "output_type": "stream",
     "text": [
      "c:\\Users\\anna6\\OneDrive\\Документы\\Blast_for_prot_names\\.venv\\lib\\site-packages\\Bio\\Blast\\NCBIWWW.py:275: BiopythonWarning: BLAST request 0XFTH11H016 is taking longer than 10 minutes, consider re-issuing it\n",
      "  warnings.warn(\n"
     ]
    },
    {
     "name": "stdout",
     "output_type": "stream",
     "text": [
      "<_io.StringIO object at 0x000002585749E310>\n",
      "[02:51:32] Progress: 146/466 (31.3%) ETA: 01:58:35"
     ]
    },
    {
     "name": "stderr",
     "output_type": "stream",
     "text": [
      "c:\\Users\\anna6\\OneDrive\\Документы\\Blast_for_prot_names\\.venv\\lib\\site-packages\\Bio\\Blast\\NCBIWWW.py:275: BiopythonWarning: BLAST request 0XGS562K016 is taking longer than 10 minutes, consider re-issuing it\n",
      "  warnings.warn(\n",
      "Exception ignored in: <generator object parse at 0x0000025857429DD0>\n",
      "Traceback (most recent call last):\n",
      "  File \"c:\\Users\\anna6\\OneDrive\\Документы\\Blast_for_prot_names\\.venv\\lib\\site-packages\\Bio\\Blast\\NCBIXML.py\", line 1319, in parse\n",
      "    expat_parser.Parse(NULL, True)\n",
      "xml.parsers.expat.ExpatError: unclosed token: line 70, column 0\n"
     ]
    },
    {
     "name": "stdout",
     "output_type": "stream",
     "text": [
      "<_io.StringIO object at 0x000002585749E790>\n",
      "[04:23:52] Progress: 147/466 (31.5%) ETA: 05:03:31"
     ]
    },
    {
     "name": "stderr",
     "output_type": "stream",
     "text": [
      "c:\\Users\\anna6\\OneDrive\\Документы\\Blast_for_prot_names\\.venv\\lib\\site-packages\\Bio\\Blast\\NCBIWWW.py:275: BiopythonWarning: BLAST request 0XP59KR0013 is taking longer than 10 minutes, consider re-issuing it\n",
      "  warnings.warn(\n"
     ]
    },
    {
     "name": "stdout",
     "output_type": "stream",
     "text": [
      "<_io.StringIO object at 0x000002585749E940>\n",
      "[05:35:12] Progress: 148/466 (31.8%) ETA: 07:19:35"
     ]
    },
    {
     "name": "stderr",
     "output_type": "stream",
     "text": [
      "c:\\Users\\anna6\\OneDrive\\Документы\\Blast_for_prot_names\\.venv\\lib\\site-packages\\Bio\\Blast\\NCBIWWW.py:275: BiopythonWarning: BLAST request 0XUB1JZ7013 is taking longer than 10 minutes, consider re-issuing it\n",
      "  warnings.warn(\n"
     ]
    },
    {
     "name": "stdout",
     "output_type": "stream",
     "text": [
      "<_io.StringIO object at 0x000002585749E8B0>\n",
      "[06:35:32] Progress: 149/466 (32.0%) ETA: 09:09:27"
     ]
    },
    {
     "name": "stderr",
     "output_type": "stream",
     "text": [
      "c:\\Users\\anna6\\OneDrive\\Документы\\Blast_for_prot_names\\.venv\\lib\\site-packages\\Bio\\Blast\\NCBIWWW.py:275: BiopythonWarning: BLAST request 0XXW5FTZ016 is taking longer than 10 minutes, consider re-issuing it\n",
      "  warnings.warn(\n"
     ]
    },
    {
     "name": "stdout",
     "output_type": "stream",
     "text": [
      "<_io.StringIO object at 0x000002585749E8B0>\n",
      "[07:20:52] Progress: 150/466 (32.2%) ETA: 10:25:27"
     ]
    },
    {
     "name": "stderr",
     "output_type": "stream",
     "text": [
      "c:\\Users\\anna6\\OneDrive\\Документы\\Blast_for_prot_names\\.venv\\lib\\site-packages\\Bio\\Blast\\NCBIWWW.py:275: BiopythonWarning: BLAST request 0Y0H5248016 is taking longer than 10 minutes, consider re-issuing it\n",
      "  warnings.warn(\n"
     ]
    },
    {
     "name": "stdout",
     "output_type": "stream",
     "text": [
      "<_io.StringIO object at 0x000002585749EAF0>\n",
      "[07:48:12] Progress: 151/466 (32.4%) ETA: 11:02:18<_io.StringIO object at 0x000002585749EB80>\n",
      "[07:51:32] Progress: 152/466 (32.6%) ETA: 10:48:44<_io.StringIO object at 0x000002585749E8B0>\n",
      "[07:53:52] Progress: 153/466 (32.8%) ETA: 10:33:15<_io.StringIO object at 0x000002585749E8B0>\n",
      "[07:56:12] Progress: 154/466 (33.0%) ETA: 10:17:56<_io.StringIO object at 0x000002585749EC10>\n",
      "[07:58:32] Progress: 155/466 (33.3%) ETA: 10:02:47<_io.StringIO object at 0x000002585749EC10>\n",
      "[08:01:53] Progress: 156/466 (33.5%) ETA: 09:49:47<_io.StringIO object at 0x000002585749E8B0>\n",
      "[08:04:12] Progress: 157/466 (33.7%) ETA: 09:34:56<_io.StringIO object at 0x000002585749EAF0>\n",
      "[08:09:32] Progress: 158/466 (33.9%) ETA: 09:26:06<_io.StringIO object at 0x000002585749EC10>\n",
      "[08:12:53] Progress: 159/466 (34.1%) ETA: 09:13:28<_io.StringIO object at 0x000002585749EC10>\n",
      "[08:17:12] Progress: 160/466 (34.3%) ETA: 09:02:50<_io.StringIO object at 0x000002585749EA60>\n",
      "[08:19:32] Progress: 161/466 (34.5%) ETA: 08:48:29<_io.StringIO object at 0x000002585749E8B0>\n",
      "[08:21:52] Progress: 162/466 (34.8%) ETA: 08:34:18<_io.StringIO object at 0x000002585749EAF0>\n",
      "[08:27:12] Progress: 163/466 (35.0%) ETA: 08:25:50<_io.StringIO object at 0x000002585749EAF0>\n",
      "[08:28:32] Progress: 164/466 (35.2%) ETA: 08:10:03<_io.StringIO object at 0x000002585749E8B0>\n",
      "[08:30:52] Progress: 165/466 (35.4%) ETA: 07:56:15<_io.StringIO object at 0x000002585749E8B0>\n",
      "[08:33:12] Progress: 166/466 (35.6%) ETA: 07:42:36<_io.StringIO object at 0x000002585749EB80>\n",
      "[08:36:32] Progress: 167/466 (35.8%) ETA: 07:30:52<_io.StringIO object at 0x000002585749EAF0>\n",
      "[08:41:52] Progress: 168/466 (36.1%) ETA: 07:22:47<_io.StringIO object at 0x000002585749EAF0>\n",
      "[08:46:12] Progress: 169/466 (36.3%) ETA: 07:12:59"
     ]
    },
    {
     "name": "stderr",
     "output_type": "stream",
     "text": [
      "Exception ignored in: <generator object parse at 0x0000025857443120>\n",
      "Traceback (most recent call last):\n",
      "  File \"c:\\Users\\anna6\\OneDrive\\Документы\\Blast_for_prot_names\\.venv\\lib\\site-packages\\Bio\\Blast\\NCBIXML.py\", line 1319, in parse\n",
      "    expat_parser.Parse(NULL, True)\n",
      "xml.parsers.expat.ExpatError: unclosed token: line 69, column 0\n"
     ]
    },
    {
     "name": "stdout",
     "output_type": "stream",
     "text": [
      "<_io.StringIO object at 0x000002585749EAF0>\n",
      "[08:50:32] Progress: 170/466 (36.5%) ETA: 07:03:15<_io.StringIO object at 0x000002585749EAF0>\n",
      "[08:54:52] Progress: 171/466 (36.7%) ETA: 06:53:34<_io.StringIO object at 0x000002585749EAF0>\n",
      "[08:56:12] Progress: 172/466 (36.9%) ETA: 06:38:49<_io.StringIO object at 0x000002585749EB80>\n",
      "[08:57:32] Progress: 173/466 (37.1%) ETA: 06:24:14<_io.StringIO object at 0x000002585749EB80>\n",
      "[08:59:52] Progress: 174/466 (37.3%) ETA: 06:11:28<_io.StringIO object at 0x000002585749EB80>\n",
      "[09:07:12] Progress: 175/466 (37.6%) ETA: 06:07:09<_io.StringIO object at 0x000002585749E8B0>\n",
      "[09:11:32] Progress: 176/466 (37.8%) ETA: 05:57:51<_io.StringIO object at 0x000002585749EB80>\n",
      "[09:13:52] Progress: 177/466 (38.0%) ETA: 05:45:20<_io.StringIO object at 0x000002585749EC10>\n",
      "[09:16:12] Progress: 178/466 (38.2%) ETA: 05:32:56<_io.StringIO object at 0x000002585749E8B0>\n",
      "[09:18:32] Progress: 179/466 (38.4%) ETA: 05:20:39<_io.StringIO object at 0x000002585749E8B0>\n",
      "[09:26:52] Progress: 180/466 (38.6%) ETA: 05:18:00Error processing sequence: <urlopen error [WinError 10061] Подключение не установлено, т.к. конечный компьютер отверг запрос на подключение>\n",
      "[09:28:22] Progress: 181/466 (38.8%) ETA: 05:04:32Error processing sequence: <urlopen error [WinError 10061] Подключение не установлено, т.к. конечный компьютер отверг запрос на подключение>\n",
      "[09:30:42] Progress: 182/466 (39.1%) ETA: 04:52:30Error processing sequence: <urlopen error [WinError 10061] Подключение не установлено, т.к. конечный компьютер отверг запрос на подключение>\n",
      "[09:30:57] Progress: 183/466 (39.3%) ETA: 04:37:21<_io.StringIO object at 0x000002585749EC10>\n",
      "[09:35:03] Progress: 184/466 (39.5%) ETA: 04:28:17<_io.StringIO object at 0x000002585749EAF0>\n",
      "[09:38:23] Progress: 185/466 (39.7%) ETA: 04:18:05<_io.StringIO object at 0x000002585749EB80>\n",
      "[09:42:43] Progress: 186/466 (39.9%) ETA: 04:09:28<_io.StringIO object at 0x000002585749EB80>\n",
      "[09:45:04] Progress: 187/466 (40.1%) ETA: 03:57:55"
     ]
    },
    {
     "name": "stderr",
     "output_type": "stream",
     "text": [
      "Exception ignored in: <generator object parse at 0x0000025857443200>\n",
      "Traceback (most recent call last):\n",
      "  File \"c:\\Users\\anna6\\OneDrive\\Документы\\Blast_for_prot_names\\.venv\\lib\\site-packages\\Bio\\Blast\\NCBIXML.py\", line 1319, in parse\n",
      "    expat_parser.Parse(NULL, True)\n",
      "xml.parsers.expat.ExpatError: unclosed token: line 69, column 0\n"
     ]
    },
    {
     "name": "stdout",
     "output_type": "stream",
     "text": [
      "<_io.StringIO object at 0x000002585749EC10>\n",
      "[09:50:23] Progress: 188/466 (40.3%) ETA: 03:50:54<_io.StringIO object at 0x000002585749ECA0>\n",
      "[09:56:43] Progress: 189/466 (40.6%) ETA: 03:45:21"
     ]
    },
    {
     "name": "stderr",
     "output_type": "stream",
     "text": [
      "Exception ignored in: <generator object parse at 0x0000025857443200>\n",
      "Traceback (most recent call last):\n",
      "  File \"c:\\Users\\anna6\\OneDrive\\Документы\\Blast_for_prot_names\\.venv\\lib\\site-packages\\Bio\\Blast\\NCBIXML.py\", line 1319, in parse\n",
      "    expat_parser.Parse(NULL, True)\n",
      "xml.parsers.expat.ExpatError: unclosed token: line 107, column 0\n"
     ]
    },
    {
     "name": "stdout",
     "output_type": "stream",
     "text": [
      "<_io.StringIO object at 0x000002585749EA60>\n",
      "[09:59:03] Progress: 190/466 (40.8%) ETA: 03:34:00<_io.StringIO object at 0x000002585749EAF0>\n",
      "[10:01:23] Progress: 191/466 (41.0%) ETA: 03:22:44<_io.StringIO object at 0x000002585749EAF0>\n",
      "[10:05:43] Progress: 192/466 (41.2%) ETA: 03:14:25"
     ]
    },
    {
     "name": "stderr",
     "output_type": "stream",
     "text": [
      "c:\\Users\\anna6\\OneDrive\\Документы\\Blast_for_prot_names\\.venv\\lib\\site-packages\\Bio\\Blast\\NCBIWWW.py:275: BiopythonWarning: BLAST request 0YA699MD013 is taking longer than 10 minutes, consider re-issuing it\n",
      "  warnings.warn(\n"
     ]
    },
    {
     "name": "stdout",
     "output_type": "stream",
     "text": [
      "<_io.StringIO object at 0x000002585749EC10>\n",
      "[10:16:03] Progress: 193/466 (41.4%) ETA: 03:14:38<_io.StringIO object at 0x000002585749ED30>\n",
      "[10:19:23] Progress: 194/466 (41.6%) ETA: 03:04:56<_io.StringIO object at 0x000002585749EAF0>\n",
      "[10:23:44] Progress: 195/466 (41.8%) ETA: 02:56:41<_io.StringIO object at 0x000002585749EAF0>\n",
      "[10:26:03] Progress: 196/466 (42.1%) ETA: 02:45:42<_io.StringIO object at 0x000002585749EAF0>\n",
      "[10:29:24] Progress: 197/466 (42.3%) ETA: 02:36:12"
     ]
    },
    {
     "name": "stderr",
     "output_type": "stream",
     "text": [
      "Exception ignored in: <generator object parse at 0x0000025857429DD0>\n",
      "Traceback (most recent call last):\n",
      "  File \"c:\\Users\\anna6\\OneDrive\\Документы\\Blast_for_prot_names\\.venv\\lib\\site-packages\\Bio\\Blast\\NCBIXML.py\", line 1319, in parse\n",
      "    expat_parser.Parse(NULL, True)\n",
      "xml.parsers.expat.ExpatError: unclosed token: line 88, column 0\n"
     ]
    },
    {
     "name": "stdout",
     "output_type": "stream",
     "text": [
      "<_io.StringIO object at 0x000002585749EAF0>\n",
      "[10:31:43] Progress: 198/466 (42.5%) ETA: 02:25:23<_io.StringIO object at 0x000002585749E8B0>\n",
      "[10:33:03] Progress: 199/466 (42.7%) ETA: 02:13:19<_io.StringIO object at 0x000002585749ECA0>\n",
      "[10:35:24] Progress: 200/466 (42.9%) ETA: 02:02:42<_io.StringIO object at 0x000002585749EB80>\n",
      "[10:44:43] Progress: 201/466 (43.1%) ETA: 02:01:22<_io.StringIO object at 0x000002585749EB80>\n",
      "[10:49:03] Progress: 202/466 (43.3%) ETA: 01:53:27<_io.StringIO object at 0x000002585749ECA0>\n",
      "[10:54:23] Progress: 203/466 (43.6%) ETA: 01:46:51<_io.StringIO object at 0x000002585749EB80>\n",
      "[10:56:43] Progress: 204/466 (43.8%) ETA: 01:36:25<_io.StringIO object at 0x000002585749ECA0>\n",
      "[11:05:03] Progress: 205/466 (44.0%) ETA: 01:33:41<_io.StringIO object at 0x000002585749EAF0>\n",
      "[11:08:23] Progress: 206/466 (44.2%) ETA: 01:24:36<_io.StringIO object at 0x000002585749ED30>\n",
      "[11:15:43] Progress: 207/466 (44.4%) ETA: 01:20:35"
     ]
    },
    {
     "name": "stderr",
     "output_type": "stream",
     "text": [
      "c:\\Users\\anna6\\OneDrive\\Документы\\Blast_for_prot_names\\.venv\\lib\\site-packages\\Bio\\Blast\\NCBIWWW.py:275: BiopythonWarning: BLAST request 0YE9HUR9016 is taking longer than 10 minutes, consider re-issuing it\n",
      "  warnings.warn(\n"
     ]
    },
    {
     "name": "stdout",
     "output_type": "stream",
     "text": [
      "<_io.StringIO object at 0x000002585749ECA0>\n",
      "[11:30:03] Progress: 208/466 (44.6%) ETA: 01:25:12"
     ]
    },
    {
     "name": "stderr",
     "output_type": "stream",
     "text": [
      "c:\\Users\\anna6\\OneDrive\\Документы\\Blast_for_prot_names\\.venv\\lib\\site-packages\\Bio\\Blast\\NCBIWWW.py:275: BiopythonWarning: BLAST request 0YF4DJ8X016 is taking longer than 10 minutes, consider re-issuing it\n",
      "  warnings.warn(\n"
     ]
    },
    {
     "name": "stdout",
     "output_type": "stream",
     "text": [
      "<_io.StringIO object at 0x000002585749E8B0>\n",
      "[11:43:23] Progress: 209/466 (44.8%) ETA: 01:28:25<_io.StringIO object at 0x000002585749E8B0>\n",
      "[11:51:43] Progress: 210/466 (45.1%) ETA: 01:25:23<_io.StringIO object at 0x000002585749E8B0>\n",
      "[11:57:04] Progress: 211/466 (45.3%) ETA: 01:18:41"
     ]
    },
    {
     "name": "stderr",
     "output_type": "stream",
     "text": [
      "c:\\Users\\anna6\\OneDrive\\Документы\\Blast_for_prot_names\\.venv\\lib\\site-packages\\Bio\\Blast\\NCBIWWW.py:275: BiopythonWarning: BLAST request 0YGR19P7013 is taking longer than 10 minutes, consider re-issuing it\n",
      "  warnings.warn(\n"
     ]
    },
    {
     "name": "stdout",
     "output_type": "stream",
     "text": [
      "<_io.StringIO object at 0x000002585749EAF0>\n",
      "[12:09:23] Progress: 212/466 (45.5%) ETA: 01:20:21<_io.StringIO object at 0x000002585749ECA0>\n",
      "[12:17:43] Progress: 213/466 (45.7%) ETA: 01:17:09<_io.StringIO object at 0x000002585749ECA0>\n",
      "[12:21:03] Progress: 214/466 (45.9%) ETA: 01:08:01<_io.StringIO object at 0x000002585749ECA0>\n",
      "[12:24:24] Progress: 215/466 (46.1%) ETA: 00:58:57<_io.StringIO object at 0x000002585749EDC0>\n",
      "[12:26:43] Progress: 216/466 (46.4%) ETA: 00:48:46<_io.StringIO object at 0x000002585749EDC0>\n",
      "[12:31:03] Progress: 217/466 (46.6%) ETA: 00:40:57"
     ]
    },
    {
     "name": "stderr",
     "output_type": "stream",
     "text": [
      "c:\\Users\\anna6\\OneDrive\\Документы\\Blast_for_prot_names\\.venv\\lib\\site-packages\\Bio\\Blast\\NCBIWWW.py:275: BiopythonWarning: BLAST request 0YJPTW08016 is taking longer than 10 minutes, consider re-issuing it\n",
      "  warnings.warn(\n"
     ]
    },
    {
     "name": "stdout",
     "output_type": "stream",
     "text": [
      "<_io.StringIO object at 0x000002585749EC10>\n",
      "[12:41:24] Progress: 218/466 (46.8%) ETA: 00:39:59<_io.StringIO object at 0x000002585749EC10>\n",
      "[12:42:43] Progress: 219/466 (47.0%) ETA: 00:28:47<_io.StringIO object at 0x000002585749EC10>\n",
      "[12:45:03] Progress: 220/466 (47.2%) ETA: 00:18:48<_io.StringIO object at 0x000002585749EC10>\n",
      "[12:51:23] Progress: 221/466 (47.4%) ETA: 00:13:19"
     ]
    },
    {
     "name": "stderr",
     "output_type": "stream",
     "text": [
      "c:\\Users\\anna6\\OneDrive\\Документы\\Blast_for_prot_names\\.venv\\lib\\site-packages\\Bio\\Blast\\NCBIWWW.py:275: BiopythonWarning: BLAST request 0YKWXBSW016 is taking longer than 10 minutes, consider re-issuing it\n",
      "  warnings.warn(\n"
     ]
    },
    {
     "name": "stdout",
     "output_type": "stream",
     "text": [
      "<_io.StringIO object at 0x000002585749ECA0>\n",
      "[13:06:43] Progress: 222/466 (47.6%) ETA: 00:17:43<_io.StringIO object at 0x000002585749EE50>\n",
      "[13:12:04] Progress: 223/466 (47.9%) ETA: 00:11:03<_io.StringIO object at 0x000002585749EE50>\n",
      "[13:13:23] Progress: 224/466 (48.1%) ETA: 00:00:04<_io.StringIO object at 0x000002585749EE50>\n",
      "[13:15:43] Progress: 225/466 (48.3%) ETA: 23:50:14<_io.StringIO object at 0x000002585749EE50>\n",
      "[13:18:03] Progress: 226/466 (48.5%) ETA: 23:40:29<_io.StringIO object at 0x000002585749EE50>\n",
      "[13:24:23] Progress: 227/466 (48.7%) ETA: 23:35:00<_io.StringIO object at 0x000002585749EE50>\n",
      "[13:28:43] Progress: 228/466 (48.9%) ETA: 23:27:25<_io.StringIO object at 0x000002585749EE50>\n",
      "[13:32:03] Progress: 229/466 (49.1%) ETA: 23:18:50<_io.StringIO object at 0x000002585749EF70>\n",
      "[13:34:23] Progress: 230/466 (49.4%) ETA: 23:09:16<_io.StringIO object at 0x000002585749EF70>\n",
      "[13:36:43] Progress: 231/466 (49.6%) ETA: 22:59:46<_io.StringIO object at 0x000002585749EE50>\n",
      "[13:41:03] Progress: 232/466 (49.8%) ETA: 22:52:21<_io.StringIO object at 0x000002585749EE50>\n",
      "[13:42:23] Progress: 233/466 (50.0%) ETA: 22:41:57<_io.StringIO object at 0x000002585749EE50>\n",
      "[13:44:44] Progress: 234/466 (50.2%) ETA: 22:32:38<_io.StringIO object at 0x000002585749EE50>\n",
      "[13:46:04] Progress: 235/466 (50.4%) ETA: 22:22:23<_io.StringIO object at 0x000002585749EF70>\n",
      "[13:48:23] Progress: 236/466 (50.6%) ETA: 22:13:10"
     ]
    },
    {
     "name": "stderr",
     "output_type": "stream",
     "text": [
      "Exception ignored in: <generator object parse at 0x0000025857443200>\n",
      "Traceback (most recent call last):\n",
      "  File \"c:\\Users\\anna6\\OneDrive\\Документы\\Blast_for_prot_names\\.venv\\lib\\site-packages\\Bio\\Blast\\NCBIXML.py\", line 1319, in parse\n",
      "    expat_parser.Parse(NULL, True)\n",
      "xml.parsers.expat.ExpatError: unclosed token: line 88, column 0\n"
     ]
    },
    {
     "name": "stdout",
     "output_type": "stream",
     "text": [
      "<_io.StringIO object at 0x000002585749EC10>\n",
      "[13:53:43] Progress: 237/466 (50.9%) ETA: 22:06:56<_io.StringIO object at 0x000002585749EEE0>\n",
      "[13:56:03] Progress: 238/466 (51.1%) ETA: 21:57:49"
     ]
    },
    {
     "name": "stderr",
     "output_type": "stream",
     "text": [
      "Exception ignored in: <generator object parse at 0x0000025857443200>\n",
      "Traceback (most recent call last):\n",
      "  File \"c:\\Users\\anna6\\OneDrive\\Документы\\Blast_for_prot_names\\.venv\\lib\\site-packages\\Bio\\Blast\\NCBIXML.py\", line 1319, in parse\n",
      "    expat_parser.Parse(NULL, True)\n",
      "xml.parsers.expat.ExpatError: unclosed token: line 69, column 0\n"
     ]
    },
    {
     "name": "stdout",
     "output_type": "stream",
     "text": [
      "<_io.StringIO object at 0x000002585749EC10>\n",
      "[14:01:24] Progress: 239/466 (51.3%) ETA: 21:51:37<_io.StringIO object at 0x000002585749EEE0>\n",
      "[14:06:43] Progress: 240/466 (51.5%) ETA: 21:45:25<_io.StringIO object at 0x000002585749EE50>\n",
      "[14:13:03] Progress: 241/466 (51.7%) ETA: 21:40:10<_io.StringIO object at 0x000002585749EE50>\n",
      "[14:17:24] Progress: 242/466 (51.9%) ETA: 21:33:03<_io.StringIO object at 0x000002585749EE50>\n",
      "[14:20:43] Progress: 243/466 (52.1%) ETA: 21:25:02"
     ]
    },
    {
     "name": "stderr",
     "output_type": "stream",
     "text": [
      "c:\\Users\\anna6\\OneDrive\\Документы\\Blast_for_prot_names\\.venv\\lib\\site-packages\\Bio\\Blast\\NCBIWWW.py:275: BiopythonWarning: BLAST request 0YT4DK8B016 is taking longer than 10 minutes, consider re-issuing it\n",
      "  warnings.warn(\n"
     ]
    },
    {
     "name": "stdout",
     "output_type": "stream",
     "text": [
      "<_io.StringIO object at 0x00000258574BB040>\n",
      "[14:33:03] Progress: 244/466 (52.4%) ETA: 21:25:15"
     ]
    },
    {
     "name": "stderr",
     "output_type": "stream",
     "text": [
      "c:\\Users\\anna6\\OneDrive\\Документы\\Blast_for_prot_names\\.venv\\lib\\site-packages\\Bio\\Blast\\NCBIWWW.py:275: BiopythonWarning: BLAST request 0YTVHYZW016 is taking longer than 10 minutes, consider re-issuing it\n",
      "  warnings.warn(\n"
     ]
    },
    {
     "name": "stdout",
     "output_type": "stream",
     "text": [
      "<_io.StringIO object at 0x000002585749EEE0>\n",
      "[14:44:23] Progress: 245/466 (52.6%) ETA: 21:24:28"
     ]
    },
    {
     "name": "stderr",
     "output_type": "stream",
     "text": [
      "c:\\Users\\anna6\\OneDrive\\Документы\\Blast_for_prot_names\\.venv\\lib\\site-packages\\Bio\\Blast\\NCBIWWW.py:275: BiopythonWarning: BLAST request 0YUGT8GR016 is taking longer than 10 minutes, consider re-issuing it\n",
      "  warnings.warn(\n"
     ]
    },
    {
     "name": "stdout",
     "output_type": "stream",
     "text": [
      "<_io.StringIO object at 0x00000258574B8160>\n",
      "[15:00:43] Progress: 246/466 (52.8%) ETA: 21:28:04<_io.StringIO object at 0x00000258574B81F0>\n",
      "[15:08:03] Progress: 247/466 (53.0%) ETA: 21:23:31<_io.StringIO object at 0x00000258574B8280>\n",
      "[15:11:24] Progress: 248/466 (53.2%) ETA: 21:15:26<_io.StringIO object at 0x00000258574B8160>\n",
      "[15:18:43] Progress: 249/466 (53.4%) ETA: 21:10:53<_io.StringIO object at 0x00000258574B8280>\n",
      "[15:25:03] Progress: 250/466 (53.6%) ETA: 21:05:26<_io.StringIO object at 0x00000258574B8160>\n",
      "[15:29:23] Progress: 251/466 (53.9%) ETA: 20:58:16"
     ]
    },
    {
     "name": "stderr",
     "output_type": "stream",
     "text": [
      "c:\\Users\\anna6\\OneDrive\\Документы\\Blast_for_prot_names\\.venv\\lib\\site-packages\\Bio\\Blast\\NCBIWWW.py:275: BiopythonWarning: BLAST request 0YX55DRK016 is taking longer than 10 minutes, consider re-issuing it\n",
      "  warnings.warn(\n"
     ]
    },
    {
     "name": "stdout",
     "output_type": "stream",
     "text": [
      "<_io.StringIO object at 0x00000258574B8430>\n",
      "[15:40:44] Progress: 252/466 (54.1%) ETA: 20:57:05<_io.StringIO object at 0x00000258574B8160>\n",
      "[15:44:03] Progress: 253/466 (54.3%) ETA: 20:49:03<_io.StringIO object at 0x00000258574B8160>\n",
      "[15:47:23] Progress: 254/466 (54.5%) ETA: 20:41:05<_io.StringIO object at 0x000002585749EC10>\n",
      "[15:49:43] Progress: 255/466 (54.7%) ETA: 20:32:19<_io.StringIO object at 0x000002585749EC10>\n",
      "[15:57:03] Progress: 256/466 (54.9%) ETA: 20:27:42<_io.StringIO object at 0x000002585749EC10>\n",
      "[16:01:23] Progress: 257/466 (55.2%) ETA: 20:20:37<_io.StringIO object at 0x000002585749EC10>\n",
      "[16:05:43] Progress: 258/466 (55.4%) ETA: 20:13:34<_io.StringIO object at 0x000002585749EC10>\n",
      "[16:10:03] Progress: 259/466 (55.6%) ETA: 20:06:32<_io.StringIO object at 0x000002585749EC10>\n",
      "[16:16:23] Progress: 260/466 (55.8%) ETA: 20:01:06<_io.StringIO object at 0x000002585749EC10>\n",
      "[16:23:43] Progress: 261/466 (56.0%) ETA: 19:56:27<_io.StringIO object at 0x000002585749EC10>\n",
      "[16:31:03] Progress: 262/466 (56.2%) ETA: 19:51:47Error processing sequence: Remote end closed connection without response\n",
      "[16:36:57] Progress: 263/466 (56.4%) ETA: 19:45:59Error processing sequence: <urlopen error [WinError 10060] Попытка установить соединение была безуспешной, т.к. от другого компьютера за требуемое время не получен нужный отклик, или было разорвано уже установленное соединение из-за неверного отклика уже подключенного компьютера>\n",
      "[16:37:23] Progress: 264/466 (56.7%) ETA: 19:36:00Error processing sequence: <urlopen error [WinError 10060] Попытка установить соединение была безуспешной, т.к. от другого компьютера за требуемое время не получен нужный отклик, или было разорвано уже установленное соединение из-за неверного отклика уже подключенного компьютера>\n",
      "[16:37:49] Progress: 265/466 (56.9%) ETA: 19:26:05Error processing sequence: <urlopen error [WinError 10060] Попытка установить соединение была безуспешной, т.к. от другого компьютера за требуемое время не получен нужный отклик, или было разорвано уже установленное соединение из-за неверного отклика уже подключенного компьютера>\n",
      "[16:41:55] Progress: 266/466 (57.1%) ETA: 19:19:00Error processing sequence: <urlopen error [WinError 10060] Попытка установить соединение была безуспешной, т.к. от другого компьютера за требуемое время не получен нужный отклик, или было разорвано уже установленное соединение из-за неверного отклика уже подключенного компьютера>\n",
      "[16:42:21] Progress: 267/466 (57.3%) ETA: 19:09:13Error processing sequence: <urlopen error [WinError 10060] Попытка установить соединение была безуспешной, т.к. от другого компьютера за требуемое время не получен нужный отклик, или было разорвано уже установленное соединение из-за неверного отклика уже подключенного компьютера>\n",
      "[16:42:47] Progress: 268/466 (57.5%) ETA: 18:59:30Error processing sequence: <urlopen error [WinError 10060] Попытка установить соединение была безуспешной, т.к. от другого компьютера за требуемое время не получен нужный отклик, или было разорвано уже установленное соединение из-за неверного отклика уже подключенного компьютера>\n",
      "[16:43:13] Progress: 269/466 (57.7%) ETA: 18:49:51Error processing sequence: <urlopen error [WinError 10060] Попытка установить соединение была безуспешной, т.к. от другого компьютера за требуемое время не получен нужный отклик, или было разорвано уже установленное соединение из-за неверного отклика уже подключенного компьютера>\n",
      "[16:43:39] Progress: 270/466 (57.9%) ETA: 18:40:16Error processing sequence: <urlopen error [WinError 10060] Попытка установить соединение была безуспешной, т.к. от другого компьютера за требуемое время не получен нужный отклик, или было разорвано уже установленное соединение из-за неверного отклика уже подключенного компьютера>\n",
      "[16:44:05] Progress: 271/466 (58.2%) ETA: 18:30:45Error processing sequence: <urlopen error [WinError 10054] Удаленный хост принудительно разорвал существующее подключение>\n",
      "[16:44:27] Progress: 272/466 (58.4%) ETA: 18:21:14Error processing sequence: <urlopen error [WinError 10060] Попытка установить соединение была безуспешной, т.к. от другого компьютера за требуемое время не получен нужный отклик, или было разорвано уже установленное соединение из-за неверного отклика уже подключенного компьютера>\n",
      "[16:44:53] Progress: 273/466 (58.6%) ETA: 18:11:52Error processing sequence: <urlopen error [WinError 10060] Попытка установить соединение была безуспешной, т.к. от другого компьютера за требуемое время не получен нужный отклик, или было разорвано уже установленное соединение из-за неверного отклика уже подключенного компьютера>\n",
      "[16:45:19] Progress: 274/466 (58.8%) ETA: 18:02:32Error processing sequence: <urlopen error [WinError 10060] Попытка установить соединение была безуспешной, т.к. от другого компьютера за требуемое время не получен нужный отклик, или было разорвано уже установленное соединение из-за неверного отклика уже подключенного компьютера>\n",
      "[16:45:45] Progress: 275/466 (59.0%) ETA: 17:53:17Error processing sequence: <urlopen error [WinError 10060] Попытка установить соединение была безуспешной, т.к. от другого компьютера за требуемое время не получен нужный отклик, или было разорвано уже установленное соединение из-за неверного отклика уже подключенного компьютера>\n",
      "[16:46:11] Progress: 276/466 (59.2%) ETA: 17:44:06Error processing sequence: <urlopen error [WinError 10060] Попытка установить соединение была безуспешной, т.к. от другого компьютера за требуемое время не получен нужный отклик, или было разорвано уже установленное соединение из-за неверного отклика уже подключенного компьютера>\n",
      "[16:46:37] Progress: 277/466 (59.4%) ETA: 17:34:58Error processing sequence: <urlopen error [WinError 10060] Попытка установить соединение была безуспешной, т.к. от другого компьютера за требуемое время не получен нужный отклик, или было разорвано уже установленное соединение из-за неверного отклика уже подключенного компьютера>\n",
      "[16:47:03] Progress: 278/466 (59.7%) ETA: 17:25:55Error processing sequence: <urlopen error [WinError 10060] Попытка установить соединение была безуспешной, т.к. от другого компьютера за требуемое время не получен нужный отклик, или было разорвано уже установленное соединение из-за неверного отклика уже подключенного компьютера>\n",
      "[16:47:29] Progress: 279/466 (59.9%) ETA: 17:16:55Error processing sequence: <urlopen error [WinError 10060] Попытка установить соединение была безуспешной, т.к. от другого компьютера за требуемое время не получен нужный отклик, или было разорвано уже установленное соединение из-за неверного отклика уже подключенного компьютера>\n",
      "[16:47:55] Progress: 280/466 (60.1%) ETA: 17:07:58Error processing sequence: <urlopen error [WinError 10060] Попытка установить соединение была безуспешной, т.к. от другого компьютера за требуемое время не получен нужный отклик, или было разорвано уже установленное соединение из-за неверного отклика уже подключенного компьютера>\n",
      "[16:48:21] Progress: 281/466 (60.3%) ETA: 16:59:05Error processing sequence: <urlopen error [WinError 10060] Попытка установить соединение была безуспешной, т.к. от другого компьютера за требуемое время не получен нужный отклик, или было разорвано уже установленное соединение из-за неверного отклика уже подключенного компьютера>\n",
      "[16:48:47] Progress: 282/466 (60.5%) ETA: 16:50:16Error processing sequence: <urlopen error [WinError 10060] Попытка установить соединение была безуспешной, т.к. от другого компьютера за требуемое время не получен нужный отклик, или было разорвано уже установленное соединение из-за неверного отклика уже подключенного компьютера>\n",
      "[16:49:13] Progress: 283/466 (60.7%) ETA: 16:41:31Error processing sequence: <urlopen error [WinError 10060] Попытка установить соединение была безуспешной, т.к. от другого компьютера за требуемое время не получен нужный отклик, или было разорвано уже установленное соединение из-за неверного отклика уже подключенного компьютера>\n",
      "[16:49:40] Progress: 284/466 (60.9%) ETA: 16:32:49Error processing sequence: <urlopen error [WinError 10060] Попытка установить соединение была безуспешной, т.к. от другого компьютера за требуемое время не получен нужный отклик, или было разорвано уже установленное соединение из-за неверного отклика уже подключенного компьютера>\n",
      "[16:50:06] Progress: 285/466 (61.2%) ETA: 16:24:10Error processing sequence: <urlopen error [WinError 10060] Попытка установить соединение была безуспешной, т.к. от другого компьютера за требуемое время не получен нужный отклик, или было разорвано уже установленное соединение из-за неверного отклика уже подключенного компьютера>\n",
      "[16:50:32] Progress: 286/466 (61.4%) ETA: 16:15:35Error processing sequence: <urlopen error [WinError 10060] Попытка установить соединение была безуспешной, т.к. от другого компьютера за требуемое время не получен нужный отклик, или было разорвано уже установленное соединение из-за неверного отклика уже подключенного компьютера>\n",
      "[16:50:58] Progress: 287/466 (61.6%) ETA: 16:07:03Error processing sequence: <urlopen error [WinError 10060] Попытка установить соединение была безуспешной, т.к. от другого компьютера за требуемое время не получен нужный отклик, или было разорвано уже установленное соединение из-за неверного отклика уже подключенного компьютера>\n",
      "[16:51:24] Progress: 288/466 (61.8%) ETA: 15:58:35Error processing sequence: <urlopen error [WinError 10060] Попытка установить соединение была безуспешной, т.к. от другого компьютера за требуемое время не получен нужный отклик, или было разорвано уже установленное соединение из-за неверного отклика уже подключенного компьютера>\n",
      "[16:51:50] Progress: 289/466 (62.0%) ETA: 15:50:09Error processing sequence: <urlopen error [WinError 10060] Попытка установить соединение была безуспешной, т.к. от другого компьютера за требуемое время не получен нужный отклик, или было разорвано уже установленное соединение из-за неверного отклика уже подключенного компьютера>\n",
      "[16:52:16] Progress: 290/466 (62.2%) ETA: 15:41:48Error processing sequence: <urlopen error [WinError 10060] Попытка установить соединение была безуспешной, т.к. от другого компьютера за требуемое время не получен нужный отклик, или было разорвано уже установленное соединение из-за неверного отклика уже подключенного компьютера>\n",
      "[16:52:42] Progress: 291/466 (62.4%) ETA: 15:33:29Error processing sequence: <urlopen error [WinError 10060] Попытка установить соединение была безуспешной, т.к. от другого компьютера за требуемое время не получен нужный отклик, или было разорвано уже установленное соединение из-за неверного отклика уже подключенного компьютера>\n",
      "[16:53:08] Progress: 292/466 (62.7%) ETA: 15:25:14Error processing sequence: <urlopen error [WinError 10060] Попытка установить соединение была безуспешной, т.к. от другого компьютера за требуемое время не получен нужный отклик, или было разорвано уже установленное соединение из-за неверного отклика уже подключенного компьютера>\n",
      "[16:53:34] Progress: 293/466 (62.9%) ETA: 15:17:02Error processing sequence: <urlopen error [WinError 10060] Попытка установить соединение была безуспешной, т.к. от другого компьютера за требуемое время не получен нужный отклик, или было разорвано уже установленное соединение из-за неверного отклика уже подключенного компьютера>\n",
      "[16:54:00] Progress: 294/466 (63.1%) ETA: 15:08:53Error processing sequence: <urlopen error [WinError 10060] Попытка установить соединение была безуспешной, т.к. от другого компьютера за требуемое время не получен нужный отклик, или было разорвано уже установленное соединение из-за неверного отклика уже подключенного компьютера>\n",
      "[16:54:26] Progress: 295/466 (63.3%) ETA: 15:00:48Error processing sequence: <urlopen error [WinError 10060] Попытка установить соединение была безуспешной, т.к. от другого компьютера за требуемое время не получен нужный отклик, или было разорвано уже установленное соединение из-за неверного отклика уже подключенного компьютера>\n",
      "[16:54:52] Progress: 296/466 (63.5%) ETA: 14:52:45Error processing sequence: <urlopen error [WinError 10060] Попытка установить соединение была безуспешной, т.к. от другого компьютера за требуемое время не получен нужный отклик, или было разорвано уже установленное соединение из-за неверного отклика уже подключенного компьютера>\n",
      "[16:55:19] Progress: 297/466 (63.7%) ETA: 14:44:45<_io.StringIO object at 0x000002585749EC10>\n",
      "[17:04:25] Progress: 298/466 (63.9%) ETA: 14:41:42<_io.StringIO object at 0x000002585749EC10>\n",
      "[17:06:45] Progress: 299/466 (64.2%) ETA: 14:34:50<_io.StringIO object at 0x000002585749EC10>\n",
      "[17:09:06] Progress: 300/466 (64.4%) ETA: 14:27:59<_io.StringIO object at 0x000002585749EC10>\n",
      "[17:18:25] Progress: 301/466 (64.6%) ETA: 14:25:00"
     ]
    },
    {
     "name": "stderr",
     "output_type": "stream",
     "text": [
      "c:\\Users\\anna6\\OneDrive\\Документы\\Blast_for_prot_names\\.venv\\lib\\site-packages\\Bio\\Blast\\NCBIWWW.py:275: BiopythonWarning: BLAST request 0Z3HK8AR013 is taking longer than 10 minutes, consider re-issuing it\n",
      "  warnings.warn(\n"
     ]
    },
    {
     "name": "stdout",
     "output_type": "stream",
     "text": [
      "<_io.StringIO object at 0x00000258574B8430>\n",
      "[17:33:45] Progress: 302/466 (64.8%) ETA: 14:25:15<_io.StringIO object at 0x00000258574B81F0>\n",
      "[17:42:05] Progress: 303/466 (65.0%) ETA: 14:21:37<_io.StringIO object at 0x00000258574B8280>\n",
      "[17:46:25] Progress: 304/466 (65.2%) ETA: 14:15:49<_io.StringIO object at 0x00000258574B81F0>\n",
      "[17:50:45] Progress: 305/466 (65.5%) ETA: 14:10:02<_io.StringIO object at 0x00000258574B81F0>\n",
      "[17:53:05] Progress: 306/466 (65.7%) ETA: 14:03:13<_io.StringIO object at 0x00000258574B8280>\n",
      "[17:57:25] Progress: 307/466 (65.9%) ETA: 13:57:28<_io.StringIO object at 0x00000258574B81F0>\n",
      "[18:00:45] Progress: 308/466 (66.1%) ETA: 13:51:12"
     ]
    },
    {
     "name": "stderr",
     "output_type": "stream",
     "text": [
      "Exception ignored in: <generator object parse at 0x0000025857429DD0>\n",
      "Traceback (most recent call last):\n",
      "  File \"c:\\Users\\anna6\\OneDrive\\Документы\\Blast_for_prot_names\\.venv\\lib\\site-packages\\Bio\\Blast\\NCBIXML.py\", line 1319, in parse\n",
      "    expat_parser.Parse(NULL, True)\n",
      "xml.parsers.expat.ExpatError: unclosed token: line 89, column 0\n"
     ]
    },
    {
     "name": "stdout",
     "output_type": "stream",
     "text": [
      "<_io.StringIO object at 0x00000258574B80D0>\n",
      "[18:04:05] Progress: 309/466 (66.3%) ETA: 13:44:58<_io.StringIO object at 0x00000258574B81F0>\n",
      "[18:12:26] Progress: 310/466 (66.5%) ETA: 13:41:15<_io.StringIO object at 0x00000258574B81F0>\n",
      "[18:13:45] Progress: 311/466 (66.7%) ETA: 13:34:02<_io.StringIO object at 0x00000258574B81F0>\n",
      "[18:15:05] Progress: 312/466 (67.0%) ETA: 13:26:51<_io.StringIO object at 0x00000258574B8430>\n",
      "[18:18:25] Progress: 313/466 (67.2%) ETA: 13:20:40<_io.StringIO object at 0x00000258574B8430>\n",
      "[18:20:45] Progress: 314/466 (67.4%) ETA: 13:14:02"
     ]
    },
    {
     "name": "stderr",
     "output_type": "stream",
     "text": [
      "c:\\Users\\anna6\\OneDrive\\Документы\\Blast_for_prot_names\\.venv\\lib\\site-packages\\Bio\\Blast\\NCBIWWW.py:275: BiopythonWarning: BLAST request 0Z76F65B016 is taking longer than 10 minutes, consider re-issuing it\n",
      "  warnings.warn(\n"
     ]
    },
    {
     "name": "stdout",
     "output_type": "stream",
     "text": [
      "<_io.StringIO object at 0x00000258574B8310>\n",
      "[18:40:05] Progress: 315/466 (67.6%) ETA: 13:15:35"
     ]
    },
    {
     "name": "stderr",
     "output_type": "stream",
     "text": [
      "c:\\Users\\anna6\\OneDrive\\Документы\\Blast_for_prot_names\\.venv\\lib\\site-packages\\Bio\\Blast\\NCBIWWW.py:275: BiopythonWarning: BLAST request 0Z8ARMRG016 is taking longer than 10 minutes, consider re-issuing it\n",
      "  warnings.warn(\n"
     ]
    },
    {
     "name": "stdout",
     "output_type": "stream",
     "text": [
      "<_io.StringIO object at 0x00000258574B81F0>\n",
      "[18:53:25] Progress: 316/466 (67.8%) ETA: 13:14:08"
     ]
    },
    {
     "name": "stderr",
     "output_type": "stream",
     "text": [
      "c:\\Users\\anna6\\OneDrive\\Документы\\Blast_for_prot_names\\.venv\\lib\\site-packages\\Bio\\Blast\\NCBIWWW.py:275: BiopythonWarning: BLAST request 0Z93RUX8016 is taking longer than 10 minutes, consider re-issuing it\n",
      "  warnings.warn(\n"
     ]
    },
    {
     "name": "stdout",
     "output_type": "stream",
     "text": [
      "<_io.StringIO object at 0x00000258574B8040>\n",
      "[19:12:45] Progress: 317/466 (68.0%) ETA: 13:15:26"
     ]
    },
    {
     "name": "stderr",
     "output_type": "stream",
     "text": [
      "c:\\Users\\anna6\\OneDrive\\Документы\\Blast_for_prot_names\\.venv\\lib\\site-packages\\Bio\\Blast\\NCBIWWW.py:275: BiopythonWarning: BLAST request 0ZA7Z7UZ016 is taking longer than 10 minutes, consider re-issuing it\n",
      "  warnings.warn(\n"
     ]
    },
    {
     "name": "stdout",
     "output_type": "stream",
     "text": [
      "<_io.StringIO object at 0x00000258574B8310>\n",
      "[19:33:05] Progress: 318/466 (68.2%) ETA: 13:17:05"
     ]
    },
    {
     "name": "stderr",
     "output_type": "stream",
     "text": [
      "c:\\Users\\anna6\\OneDrive\\Документы\\Blast_for_prot_names\\.venv\\lib\\site-packages\\Bio\\Blast\\NCBIWWW.py:275: BiopythonWarning: BLAST request 0ZBE337U016 is taking longer than 10 minutes, consider re-issuing it\n",
      "  warnings.warn(\n"
     ]
    },
    {
     "name": "stdout",
     "output_type": "stream",
     "text": [
      "<_io.StringIO object at 0x00000258574B8160>\n",
      "[19:53:25] Progress: 319/466 (68.5%) ETA: 13:18:35"
     ]
    },
    {
     "name": "stderr",
     "output_type": "stream",
     "text": [
      "c:\\Users\\anna6\\OneDrive\\Документы\\Blast_for_prot_names\\.venv\\lib\\site-packages\\Bio\\Blast\\NCBIWWW.py:275: BiopythonWarning: BLAST request 0ZCM7YGV016 is taking longer than 10 minutes, consider re-issuing it\n",
      "  warnings.warn(\n"
     ]
    },
    {
     "name": "stdout",
     "output_type": "stream",
     "text": [
      "<_io.StringIO object at 0x00000258574B8310>\n",
      "[20:07:45] Progress: 320/466 (68.7%) ETA: 13:17:13"
     ]
    },
    {
     "name": "stderr",
     "output_type": "stream",
     "text": [
      "c:\\Users\\anna6\\OneDrive\\Документы\\Blast_for_prot_names\\.venv\\lib\\site-packages\\Bio\\Blast\\NCBIWWW.py:275: BiopythonWarning: BLAST request 0ZDF3MP4016 is taking longer than 10 minutes, consider re-issuing it\n",
      "  warnings.warn(\n"
     ]
    },
    {
     "name": "stdout",
     "output_type": "stream",
     "text": [
      "<_io.StringIO object at 0x00000258574B8160>\n",
      "[20:30:05] Progress: 321/466 (68.9%) ETA: 13:19:22"
     ]
    },
    {
     "name": "stderr",
     "output_type": "stream",
     "text": [
      "c:\\Users\\anna6\\OneDrive\\Документы\\Blast_for_prot_names\\.venv\\lib\\site-packages\\Bio\\Blast\\NCBIWWW.py:275: BiopythonWarning: BLAST request 0ZESZ4RX016 is taking longer than 10 minutes, consider re-issuing it\n",
      "  warnings.warn(\n"
     ]
    },
    {
     "name": "stdout",
     "output_type": "stream",
     "text": [
      "<_io.StringIO object at 0x00000258574B8550>\n",
      "[21:09:25] Progress: 322/466 (69.1%) ETA: 13:28:59<_io.StringIO object at 0x00000258574B8700>\n",
      "[21:10:46] Progress: 323/466 (69.3%) ETA: 13:21:28<_io.StringIO object at 0x00000258574B8670>\n",
      "[21:14:05] Progress: 324/466 (69.5%) ETA: 13:14:52<_io.StringIO object at 0x00000258574B85E0>\n",
      "[21:16:26] Progress: 325/466 (69.7%) ETA: 13:07:51<_io.StringIO object at 0x00000258574B8550>\n",
      "[21:18:46] Progress: 326/466 (70.0%) ETA: 13:00:52<_io.StringIO object at 0x00000258574B8550>\n",
      "[21:20:05] Progress: 327/466 (70.2%) ETA: 12:53:29<_io.StringIO object at 0x00000258574B85E0>\n",
      "[21:21:25] Progress: 328/466 (70.4%) ETA: 12:46:09"
     ]
    },
    {
     "name": "stderr",
     "output_type": "stream",
     "text": [
      "c:\\Users\\anna6\\OneDrive\\Документы\\Blast_for_prot_names\\.venv\\lib\\site-packages\\Bio\\Blast\\NCBIWWW.py:275: BiopythonWarning: BLAST request 0ZHT7FJC016 is taking longer than 10 minutes, consider re-issuing it\n",
      "  warnings.warn(\n"
     ]
    },
    {
     "name": "stdout",
     "output_type": "stream",
     "text": [
      "<_io.StringIO object at 0x00000258574B8550>\n",
      "[21:47:46] Progress: 329/466 (70.6%) ETA: 12:49:15"
     ]
    },
    {
     "name": "stderr",
     "output_type": "stream",
     "text": [
      "c:\\Users\\anna6\\OneDrive\\Документы\\Blast_for_prot_names\\.venv\\lib\\site-packages\\Bio\\Blast\\NCBIWWW.py:275: BiopythonWarning: BLAST request 0ZKAK3M7016 is taking longer than 10 minutes, consider re-issuing it\n",
      "  warnings.warn(\n"
     ]
    },
    {
     "name": "stdout",
     "output_type": "stream",
     "text": [
      "<_io.StringIO object at 0x00000258574B85E0>\n",
      "[22:05:05] Progress: 330/466 (70.8%) ETA: 12:48:27<_io.StringIO object at 0x00000258574B8790>\n",
      "[22:06:25] Progress: 331/466 (71.0%) ETA: 12:41:03<_io.StringIO object at 0x00000258574B8820>\n",
      "[22:09:45] Progress: 332/466 (71.2%) ETA: 12:34:29"
     ]
    },
    {
     "name": "stderr",
     "output_type": "stream",
     "text": [
      "c:\\Users\\anna6\\OneDrive\\Документы\\Blast_for_prot_names\\.venv\\lib\\site-packages\\Bio\\Blast\\NCBIWWW.py:275: BiopythonWarning: BLAST request 0ZMKVBWH016 is taking longer than 10 minutes, consider re-issuing it\n",
      "  warnings.warn(\n"
     ]
    },
    {
     "name": "stdout",
     "output_type": "stream",
     "text": [
      "<_io.StringIO object at 0x00000258574B8790>\n",
      "[22:21:05] Progress: 333/466 (71.5%) ETA: 12:31:08<_io.StringIO object at 0x00000258574B88B0>\n",
      "[22:24:26] Progress: 334/466 (71.7%) ETA: 12:24:34<_io.StringIO object at 0x00000258574B8820>\n",
      "[22:28:45] Progress: 335/466 (71.9%) ETA: 12:18:25<_io.StringIO object at 0x00000258574B8790>\n",
      "[22:30:06] Progress: 336/466 (72.1%) ETA: 12:11:07<_io.StringIO object at 0x00000258574B85E0>\n",
      "[22:34:25] Progress: 337/466 (72.3%) ETA: 12:05:00<_io.StringIO object at 0x00000258574B8820>\n",
      "[22:36:45] Progress: 338/466 (72.5%) ETA: 11:58:08<_io.StringIO object at 0x00000258574B8820>\n",
      "[22:40:05] Progress: 339/466 (72.7%) ETA: 11:51:40"
     ]
    },
    {
     "name": "stderr",
     "output_type": "stream",
     "text": [
      "c:\\Users\\anna6\\OneDrive\\Документы\\Blast_for_prot_names\\.venv\\lib\\site-packages\\Bio\\Blast\\NCBIWWW.py:275: BiopythonWarning: BLAST request 0ZPCRT2Y013 is taking longer than 10 minutes, consider re-issuing it\n",
      "  warnings.warn(\n"
     ]
    },
    {
     "name": "stdout",
     "output_type": "stream",
     "text": [
      "<_io.StringIO object at 0x00000258574B8940>\n",
      "[22:51:25] Progress: 340/466 (73.0%) ETA: 11:48:11<_io.StringIO object at 0x00000258574B8A60>\n",
      "[22:54:45] Progress: 341/466 (73.2%) ETA: 11:41:43<_io.StringIO object at 0x00000258574B8AF0>\n",
      "[22:58:07] Progress: 342/466 (73.4%) ETA: 11:35:18"
     ]
    },
    {
     "name": "stderr",
     "output_type": "stream",
     "text": [
      "c:\\Users\\anna6\\OneDrive\\Документы\\Blast_for_prot_names\\.venv\\lib\\site-packages\\Bio\\Blast\\NCBIWWW.py:275: BiopythonWarning: BLAST request 0ZREHPCK013 is taking longer than 10 minutes, consider re-issuing it\n",
      "  warnings.warn(\n"
     ]
    },
    {
     "name": "stdout",
     "output_type": "stream",
     "text": [
      "<_io.StringIO object at 0x00000258574B8A60>\n",
      "[23:12:25] Progress: 343/466 (73.6%) ETA: 11:32:48<_io.StringIO object at 0x00000258574B8940>\n",
      "[23:14:45] Progress: 344/466 (73.8%) ETA: 11:26:00<_io.StringIO object at 0x00000258574B8940>\n",
      "[23:17:05] Progress: 345/466 (74.0%) ETA: 11:19:14<_io.StringIO object at 0x00000258574B8940>\n",
      "[23:19:25] Progress: 346/466 (74.2%) ETA: 11:12:29<_io.StringIO object at 0x00000258574B89D0>\n",
      "[23:20:45] Progress: 347/466 (74.5%) ETA: 11:05:24<_io.StringIO object at 0x00000258574B89D0>\n",
      "[23:25:06] Progress: 348/466 (74.7%) ETA: 10:59:23<_io.StringIO object at 0x00000258574B8940>\n",
      "[23:28:26] Progress: 349/466 (74.9%) ETA: 10:53:03<_io.StringIO object at 0x00000258574B8B80>\n",
      "[23:30:45] Progress: 350/466 (75.1%) ETA: 10:46:23<_io.StringIO object at 0x00000258574B8C10>\n",
      "[23:39:05] Progress: 351/466 (75.3%) ETA: 10:41:43<_io.StringIO object at 0x00000258574B8940>\n",
      "[23:45:25] Progress: 352/466 (75.5%) ETA: 10:36:23<_io.StringIO object at 0x00000258574B8940>\n",
      "[23:48:46] Progress: 353/466 (75.8%) ETA: 10:30:05<_io.StringIO object at 0x00000258574B8A60>\n",
      "[23:51:06] Progress: 354/466 (76.0%) ETA: 10:23:29<_io.StringIO object at 0x00000258574B8A60>\n",
      "[23:54:25] Progress: 355/466 (76.2%) ETA: 10:17:13<_io.StringIO object at 0x00000258574B88B0>\n",
      "[23:56:46] Progress: 356/466 (76.4%) ETA: 10:10:39"
     ]
    },
    {
     "name": "stderr",
     "output_type": "stream",
     "text": [
      "c:\\Users\\anna6\\OneDrive\\Документы\\Blast_for_prot_names\\.venv\\lib\\site-packages\\Bio\\Blast\\NCBIWWW.py:275: BiopythonWarning: BLAST request 0ZUWEMTC016 is taking longer than 10 minutes, consider re-issuing it\n",
      "  warnings.warn(\n"
     ]
    },
    {
     "name": "stdout",
     "output_type": "stream",
     "text": [
      "<_io.StringIO object at 0x00000258574B8AF0>\n",
      "[00:09:05] Progress: 357/466 (76.6%) ETA: 10:07:10<_io.StringIO object at 0x00000258574B8A60>\n",
      "[00:16:25] Progress: 358/466 (76.8%) ETA: 10:02:08<_io.StringIO object at 0x00000258574B8820>\n",
      "[00:22:45] Progress: 359/466 (77.0%) ETA: 09:56:47<_io.StringIO object at 0x00000258574B8AF0>\n",
      "[00:30:05] Progress: 360/466 (77.3%) ETA: 09:51:44<_io.StringIO object at 0x00000258574B8AF0>\n",
      "[00:36:25] Progress: 361/466 (77.5%) ETA: 09:46:22<_io.StringIO object at 0x00000258574B8820>\n",
      "[00:45:45] Progress: 362/466 (77.7%) ETA: 09:41:51<_io.StringIO object at 0x00000258574B8AF0>\n",
      "[00:49:06] Progress: 363/466 (77.9%) ETA: 09:35:37<_io.StringIO object at 0x00000258574B8820>\n",
      "[00:52:26] Progress: 364/466 (78.1%) ETA: 09:29:24<_io.StringIO object at 0x00000258574B8940>\n",
      "[00:56:45] Progress: 365/466 (78.3%) ETA: 09:23:28<_io.StringIO object at 0x00000258574B8E50>\n",
      "[01:02:05] Progress: 366/466 (78.5%) ETA: 09:17:49<_io.StringIO object at 0x00000258574B8DC0>\n",
      "[01:03:25] Progress: 367/466 (78.8%) ETA: 09:11:06<_io.StringIO object at 0x00000258574B8940>\n",
      "[01:06:45] Progress: 368/466 (79.0%) ETA: 09:04:56<_io.StringIO object at 0x00000258574B8E50>\n",
      "[01:09:05] Progress: 369/466 (79.2%) ETA: 08:58:32<_io.StringIO object at 0x00000258574B8DC0>\n",
      "[01:12:25] Progress: 370/466 (79.4%) ETA: 08:52:24<_io.StringIO object at 0x00000258574B8940>\n",
      "[01:14:45] Progress: 371/466 (79.6%) ETA: 08:46:02<_io.StringIO object at 0x00000258574B8E50>\n",
      "[01:17:06] Progress: 372/466 (79.8%) ETA: 08:39:41<_io.StringIO object at 0x00000258574B8DC0>\n",
      "[01:20:26] Progress: 373/466 (80.0%) ETA: 08:33:37<_io.StringIO object at 0x00000258574B8940>\n",
      "[01:23:45] Progress: 374/466 (80.3%) ETA: 08:27:33<_io.StringIO object at 0x00000258574B8E50>\n",
      "[01:26:05] Progress: 375/466 (80.5%) ETA: 08:21:16<_io.StringIO object at 0x00000258574B8E50>\n",
      "[01:27:25] Progress: 376/466 (80.7%) ETA: 08:14:45<_io.StringIO object at 0x00000258574B8A60>\n",
      "[01:28:45] Progress: 377/466 (80.9%) ETA: 08:08:16<_io.StringIO object at 0x00000258574B89D0>\n",
      "[01:31:05] Progress: 378/466 (81.1%) ETA: 08:02:03<_io.StringIO object at 0x00000258574B89D0>\n",
      "[01:36:25] Progress: 379/466 (81.3%) ETA: 07:56:32<_io.StringIO object at 0x00000258574B89D0>\n",
      "[01:44:46] Progress: 380/466 (81.5%) ETA: 07:51:43"
     ]
    },
    {
     "name": "stderr",
     "output_type": "stream",
     "text": [
      "c:\\Users\\anna6\\OneDrive\\Документы\\Blast_for_prot_names\\.venv\\lib\\site-packages\\Bio\\Blast\\NCBIWWW.py:275: BiopythonWarning: BLAST request 1016YY9B016 is taking longer than 10 minutes, consider re-issuing it\n",
      "  warnings.warn(\n"
     ]
    },
    {
     "name": "stdout",
     "output_type": "stream",
     "text": [
      "<_io.StringIO object at 0x00000258574B8940>\n",
      "[03:03:05] Progress: 381/466 (81.8%) ETA: 08:02:29"
     ]
    },
    {
     "name": "stderr",
     "output_type": "stream",
     "text": [
      "Exception ignored in: <generator object parse at 0x0000025857443120>\n",
      "Traceback (most recent call last):\n",
      "  File \"c:\\Users\\anna6\\OneDrive\\Документы\\Blast_for_prot_names\\.venv\\lib\\site-packages\\Bio\\Blast\\NCBIXML.py\", line 1319, in parse\n",
      "    expat_parser.Parse(NULL, True)\n",
      "xml.parsers.expat.ExpatError: unclosed token: line 88, column 0\n"
     ]
    },
    {
     "name": "stdout",
     "output_type": "stream",
     "text": [
      "<_io.StringIO object at 0x00000258574B8940>\n",
      "[03:06:25] Progress: 382/466 (82.0%) ETA: 07:56:17<_io.StringIO object at 0x00000258574B8E50>\n",
      "[03:07:45] Progress: 383/466 (82.2%) ETA: 07:49:40<_io.StringIO object at 0x00000258574B8820>\n",
      "[03:09:05] Progress: 384/466 (82.4%) ETA: 07:43:05<_io.StringIO object at 0x00000258574B8CA0>\n",
      "[03:18:25] Progress: 385/466 (82.6%) ETA: 07:38:13<_io.StringIO object at 0x00000258574B89D0>\n",
      "[03:22:45] Progress: 386/466 (82.8%) ETA: 07:32:17<_io.StringIO object at 0x00000258574B8CA0>\n",
      "[03:25:06] Progress: 387/466 (83.0%) ETA: 07:25:57"
     ]
    },
    {
     "name": "stderr",
     "output_type": "stream",
     "text": [
      "c:\\Users\\anna6\\OneDrive\\Документы\\Blast_for_prot_names\\.venv\\lib\\site-packages\\Bio\\Blast\\NCBIWWW.py:275: BiopythonWarning: BLAST request 10732515016 is taking longer than 10 minutes, consider re-issuing it\n",
      "  warnings.warn(\n"
     ]
    },
    {
     "name": "stdout",
     "output_type": "stream",
     "text": [
      "<_io.StringIO object at 0x00000258574B8A60>\n",
      "[03:43:25] Progress: 388/466 (83.3%) ETA: 07:22:52"
     ]
    },
    {
     "name": "stderr",
     "output_type": "stream",
     "text": [
      "c:\\Users\\anna6\\OneDrive\\Документы\\Blast_for_prot_names\\.venv\\lib\\site-packages\\Bio\\Blast\\NCBIWWW.py:275: BiopythonWarning: BLAST request 1085E1ZT013 is taking longer than 10 minutes, consider re-issuing it\n",
      "  warnings.warn(\n"
     ]
    },
    {
     "name": "stdout",
     "output_type": "stream",
     "text": [
      "Error processing sequence: Remote end closed connection without response\n",
      "[03:55:53] Progress: 389/466 (83.5%) ETA: 07:18:32"
     ]
    },
    {
     "name": "stderr",
     "output_type": "stream",
     "text": [
      "c:\\Users\\anna6\\OneDrive\\Документы\\Blast_for_prot_names\\.venv\\lib\\site-packages\\Bio\\Blast\\NCBIWWW.py:275: BiopythonWarning: BLAST request 108WX044016 is taking longer than 10 minutes, consider re-issuing it\n",
      "  warnings.warn(\n"
     ]
    },
    {
     "name": "stdout",
     "output_type": "stream",
     "text": [
      "<_io.StringIO object at 0x00000258574B8EE0>\n",
      "[04:18:14] Progress: 390/466 (83.7%) ETA: 07:16:05<_io.StringIO object at 0x00000258574B8F70>\n",
      "[04:19:34] Progress: 391/466 (83.9%) ETA: 07:09:30<_io.StringIO object at 0x00000258574B8C10>\n",
      "[04:21:55] Progress: 392/466 (84.1%) ETA: 07:03:08Error processing sequence: local variable 'expat_parser' referenced before assignment\n",
      "[04:24:24] Progress: 393/466 (84.3%) ETA: 06:56:49<_io.StringIO object at 0x00000258574B8F70>\n",
      "[04:27:34] Progress: 394/466 (84.5%) ETA: 06:50:38"
     ]
    },
    {
     "name": "stderr",
     "output_type": "stream",
     "text": [
      "c:\\Users\\anna6\\OneDrive\\Документы\\Blast_for_prot_names\\.venv\\lib\\site-packages\\Bio\\Blast\\NCBIWWW.py:275: BiopythonWarning: BLAST request 10AS7RGP016 is taking longer than 10 minutes, consider re-issuing it\n",
      "  warnings.warn(\n"
     ]
    },
    {
     "name": "stdout",
     "output_type": "stream",
     "text": [
      "<_io.StringIO object at 0x00000258574B8C10>\n",
      "[04:40:54] Progress: 395/466 (84.8%) ETA: 06:46:18<_io.StringIO object at 0x00000258574B8D30>\n",
      "[04:50:14] Progress: 396/466 (85.0%) ETA: 06:41:13<_io.StringIO object at 0x00000258574B8940>\n",
      "[04:53:34] Progress: 397/466 (85.2%) ETA: 06:35:04"
     ]
    },
    {
     "name": "stderr",
     "output_type": "stream",
     "text": [
      "c:\\Users\\anna6\\OneDrive\\Документы\\Blast_for_prot_names\\.venv\\lib\\site-packages\\Bio\\Blast\\NCBIWWW.py:275: BiopythonWarning: BLAST request 10C8ZRT6013 is taking longer than 10 minutes, consider re-issuing it\n",
      "  warnings.warn(\n"
     ]
    },
    {
     "name": "stdout",
     "output_type": "stream",
     "text": [
      "<_io.StringIO object at 0x00000258574B8D30>\n",
      "[05:12:54] Progress: 398/466 (85.4%) ETA: 06:31:40<_io.StringIO object at 0x00000258574B8B80>\n",
      "[05:21:14] Progress: 399/466 (85.6%) ETA: 06:26:21<_io.StringIO object at 0x00000258574B8940>\n",
      "[05:30:34] Progress: 400/466 (85.8%) ETA: 06:21:10<_io.StringIO object at 0x00000258574B8940>\n",
      "[05:34:54] Progress: 401/466 (86.1%) ETA: 06:15:09<_io.StringIO object at 0x00000258574B8B80>\n",
      "[05:37:14] Progress: 402/466 (86.3%) ETA: 06:08:50<_io.StringIO object at 0x00000258574B8E50>\n",
      "[05:41:34] Progress: 403/466 (86.5%) ETA: 06:02:51<_io.StringIO object at 0x00000258574B8D30>\n",
      "[05:49:54] Progress: 404/466 (86.7%) ETA: 05:57:29<_io.StringIO object at 0x00000258574B8B80>\n",
      "[05:52:14] Progress: 405/466 (86.9%) ETA: 05:51:12<_io.StringIO object at 0x00000258574B8940>\n",
      "[05:54:34] Progress: 406/466 (87.1%) ETA: 05:44:56<_io.StringIO object at 0x00000258574B8940>\n",
      "[05:56:54] Progress: 407/466 (87.3%) ETA: 05:38:42<_io.StringIO object at 0x00000258574B8940>\n",
      "[06:00:14] Progress: 408/466 (87.6%) ETA: 05:32:37<_io.StringIO object at 0x00000258574B8940>\n",
      "[06:05:34] Progress: 409/466 (87.8%) ETA: 05:26:49<_io.StringIO object at 0x00000258574B8820>\n",
      "[06:09:54] Progress: 410/466 (88.0%) ETA: 05:20:54<_io.StringIO object at 0x00000258574B8E50>\n",
      "[06:12:14] Progress: 411/466 (88.2%) ETA: 05:14:43<_io.StringIO object at 0x00000258574B8E50>\n",
      "[06:14:34] Progress: 412/466 (88.4%) ETA: 05:08:33<_io.StringIO object at 0x00000258574B8940>\n",
      "[06:17:54] Progress: 413/466 (88.6%) ETA: 05:02:31<_io.StringIO object at 0x00000258574B8B80>\n",
      "[06:22:14] Progress: 414/466 (88.8%) ETA: 04:56:39<_io.StringIO object at 0x00000258574B8D30>\n",
      "[06:25:34] Progress: 415/466 (89.1%) ETA: 04:50:39<_io.StringIO object at 0x00000258574B8820>\n",
      "[06:34:54] Progress: 416/466 (89.3%) ETA: 04:45:23<_io.StringIO object at 0x00000258574B8820>\n",
      "[06:36:14] Progress: 417/466 (89.5%) ETA: 04:39:10<_io.StringIO object at 0x00000258574B8820>\n",
      "[06:38:34] Progress: 418/466 (89.7%) ETA: 04:33:05<_io.StringIO object at 0x00000258574B8940>\n",
      "[06:43:54] Progress: 419/466 (89.9%) ETA: 04:27:21"
     ]
    },
    {
     "name": "stderr",
     "output_type": "stream",
     "text": [
      "c:\\Users\\anna6\\OneDrive\\Документы\\Blast_for_prot_names\\.venv\\lib\\site-packages\\Bio\\Blast\\NCBIWWW.py:275: BiopythonWarning: BLAST request 10JRV47F016 is taking longer than 10 minutes, consider re-issuing it\n",
      "  warnings.warn(\n"
     ]
    },
    {
     "name": "stdout",
     "output_type": "stream",
     "text": [
      "<_io.StringIO object at 0x00000258574B8E50>\n",
      "[07:01:14] Progress: 420/466 (90.1%) ETA: 04:22:56"
     ]
    },
    {
     "name": "stderr",
     "output_type": "stream",
     "text": [
      "c:\\Users\\anna6\\OneDrive\\Документы\\Blast_for_prot_names\\.venv\\lib\\site-packages\\Bio\\Blast\\NCBIWWW.py:275: BiopythonWarning: BLAST request 10KSB2NE016 is taking longer than 10 minutes, consider re-issuing it\n",
      "  warnings.warn(\n"
     ]
    },
    {
     "name": "stdout",
     "output_type": "stream",
     "text": [
      "<_io.StringIO object at 0x00000258574B8820>\n",
      "[07:16:34] Progress: 421/466 (90.3%) ETA: 04:18:15<_io.StringIO object at 0x00000258574B8820>\n",
      "[07:19:54] Progress: 422/466 (90.6%) ETA: 04:12:16<_io.StringIO object at 0x00000258574B8E50>\n",
      "[07:27:14] Progress: 423/466 (90.8%) ETA: 04:06:41<_io.StringIO object at 0x00000258574B8B80>\n",
      "[07:29:34] Progress: 424/466 (91.0%) ETA: 04:00:37<_io.StringIO object at 0x00000258574B8820>\n",
      "[07:30:54] Progress: 425/466 (91.2%) ETA: 03:54:28"
     ]
    },
    {
     "name": "stderr",
     "output_type": "stream",
     "text": [
      "Exception ignored in: <generator object parse at 0x0000025857443120>\n",
      "Traceback (most recent call last):\n",
      "  File \"c:\\Users\\anna6\\OneDrive\\Документы\\Blast_for_prot_names\\.venv\\lib\\site-packages\\Bio\\Blast\\NCBIXML.py\", line 1319, in parse\n",
      "    expat_parser.Parse(NULL, True)\n",
      "xml.parsers.expat.ExpatError: unclosed token: line 127, column 0\n"
     ]
    },
    {
     "name": "stdout",
     "output_type": "stream",
     "text": [
      "<_io.StringIO object at 0x00000258574B8E50>\n",
      "[07:37:14] Progress: 426/466 (91.4%) ETA: 03:48:48<_io.StringIO object at 0x00000258574B8820>\n",
      "[07:42:34] Progress: 427/466 (91.6%) ETA: 03:43:03"
     ]
    },
    {
     "name": "stderr",
     "output_type": "stream",
     "text": [
      "Exception ignored in: <generator object parse at 0x0000025857443120>\n",
      "Traceback (most recent call last):\n",
      "  File \"c:\\Users\\anna6\\OneDrive\\Документы\\Blast_for_prot_names\\.venv\\lib\\site-packages\\Bio\\Blast\\NCBIXML.py\", line 1319, in parse\n",
      "    expat_parser.Parse(NULL, True)\n",
      "xml.parsers.expat.ExpatError: unclosed token: line 126, column 0\n"
     ]
    },
    {
     "name": "stdout",
     "output_type": "stream",
     "text": [
      "<_io.StringIO object at 0x00000258574B8C10>\n",
      "[07:44:54] Progress: 428/466 (91.8%) ETA: 03:37:01<_io.StringIO object at 0x00000258574B8F70>\n",
      "[07:47:14] Progress: 429/466 (92.1%) ETA: 03:31:01<_io.StringIO object at 0x00000258574B8820>\n",
      "[07:48:34] Progress: 430/466 (92.3%) ETA: 03:24:57<_io.StringIO object at 0x00000258574B8C10>\n",
      "[07:50:54] Progress: 431/466 (92.5%) ETA: 03:18:59<_io.StringIO object at 0x00000258574B8F70>\n",
      "[07:53:14] Progress: 432/466 (92.7%) ETA: 03:13:02<_io.StringIO object at 0x00000258574B8820>\n",
      "[07:55:34] Progress: 433/466 (92.9%) ETA: 03:07:06<_io.StringIO object at 0x00000258574B8C10>\n",
      "[08:00:54] Progress: 434/466 (93.1%) ETA: 03:01:25<_io.StringIO object at 0x00000258574B8E50>\n",
      "[08:03:14] Progress: 435/466 (93.3%) ETA: 02:55:30<_io.StringIO object at 0x00000258574B8B80>\n",
      "[08:05:34] Progress: 436/466 (93.6%) ETA: 02:49:37<_io.StringIO object at 0x00000258574B8F70>\n",
      "[08:07:54] Progress: 437/466 (93.8%) ETA: 02:43:44<_io.StringIO object at 0x00000258574B8F70>\n",
      "[08:13:14] Progress: 438/466 (94.0%) ETA: 02:38:04<_io.StringIO object at 0x00000258574B8F70>\n",
      "[08:18:34] Progress: 439/466 (94.2%) ETA: 02:32:24<_io.StringIO object at 0x00000258574B8820>\n",
      "[08:23:54] Progress: 440/466 (94.4%) ETA: 02:26:45<_io.StringIO object at 0x00000258574B8E50>\n",
      "[08:27:14] Progress: 441/466 (94.6%) ETA: 02:20:58<_io.StringIO object at 0x00000258574B8B80>\n",
      "[08:34:34] Progress: 442/466 (94.8%) ETA: 02:15:25<_io.StringIO object at 0x00000258574B8C10>\n",
      "[08:37:54] Progress: 443/466 (95.1%) ETA: 02:09:39<_io.StringIO object at 0x00000258574B8E50>\n",
      "[08:40:14] Progress: 444/466 (95.3%) ETA: 02:03:51<_io.StringIO object at 0x00000258574B8B80>\n",
      "[08:41:34] Progress: 445/466 (95.5%) ETA: 01:58:01<_io.StringIO object at 0x00000258574B8820>\n",
      "[08:45:54] Progress: 446/466 (95.7%) ETA: 01:52:21<_io.StringIO object at 0x00000258574B8820>\n",
      "[08:49:14] Progress: 447/466 (95.9%) ETA: 01:46:38"
     ]
    },
    {
     "name": "stderr",
     "output_type": "stream",
     "text": [
      "Exception ignored in: <generator object parse at 0x0000025857443200>\n",
      "Traceback (most recent call last):\n",
      "  File \"c:\\Users\\anna6\\OneDrive\\Документы\\Blast_for_prot_names\\.venv\\lib\\site-packages\\Bio\\Blast\\NCBIXML.py\", line 1319, in parse\n",
      "    expat_parser.Parse(NULL, True)\n",
      "xml.parsers.expat.ExpatError: unclosed token: line 126, column 0\n"
     ]
    },
    {
     "name": "stdout",
     "output_type": "stream",
     "text": [
      "<_io.StringIO object at 0x00000258574B8B80>\n",
      "[08:53:34] Progress: 448/466 (96.1%) ETA: 01:40:58<_io.StringIO object at 0x00000258574B8820>\n",
      "[08:54:54] Progress: 449/466 (96.4%) ETA: 01:35:12<_io.StringIO object at 0x00000258574B8820>\n",
      "[08:59:14] Progress: 450/466 (96.6%) ETA: 01:29:33<_io.StringIO object at 0x00000258574B8820>\n",
      "[09:06:34] Progress: 451/466 (96.8%) ETA: 01:24:01<_io.StringIO object at 0x00000258574B8820>\n",
      "[09:10:55] Progress: 452/466 (97.0%) ETA: 01:18:22<_io.StringIO object at 0x00000258574B8F70>\n",
      "[09:17:14] Progress: 453/466 (97.2%) ETA: 01:12:48<_io.StringIO object at 0x00000258574B8C10>\n",
      "[09:18:34] Progress: 454/466 (97.4%) ETA: 01:07:05"
     ]
    },
    {
     "name": "stderr",
     "output_type": "stream",
     "text": [
      "c:\\Users\\anna6\\OneDrive\\Документы\\Blast_for_prot_names\\.venv\\lib\\site-packages\\Bio\\Blast\\NCBIWWW.py:275: BiopythonWarning: BLAST request 10VTVAU3016 is taking longer than 10 minutes, consider re-issuing it\n",
      "  warnings.warn(\n"
     ]
    },
    {
     "name": "stdout",
     "output_type": "stream",
     "text": [
      "Error processing sequence: <urlopen error [WinError 10061] Подключение не установлено, т.к. конечный компьютер отверг запрос на подключение>\n",
      "[09:33:03] Progress: 455/466 (97.6%) ETA: 01:01:42<_io.StringIO object at 0x00000258574B8E50>\n",
      "[09:39:14] Progress: 456/466 (97.9%) ETA: 00:56:06<_io.StringIO object at 0x00000258574B8E50>\n",
      "[09:42:34] Progress: 457/466 (98.1%) ETA: 00:50:27<_io.StringIO object at 0x00000258574B8B80>\n",
      "[09:46:54] Progress: 458/466 (98.3%) ETA: 00:44:49Error processing sequence: <urlopen error [WinError 10061] Подключение не установлено, т.к. конечный компьютер отверг запрос на подключение>\n",
      "[09:48:24] Progress: 459/466 (98.5%) ETA: 00:39:09"
     ]
    },
    {
     "name": "stderr",
     "output_type": "stream",
     "text": [
      "Exception ignored in: <generator object parse at 0x0000025857443120>\n",
      "Traceback (most recent call last):\n",
      "  File \"c:\\Users\\anna6\\OneDrive\\Документы\\Blast_for_prot_names\\.venv\\lib\\site-packages\\Bio\\Blast\\NCBIXML.py\", line 1319, in parse\n",
      "    expat_parser.Parse(NULL, True)\n",
      "xml.parsers.expat.ExpatError: unclosed token: line 88, column 0\n"
     ]
    },
    {
     "name": "stdout",
     "output_type": "stream",
     "text": [
      "<_io.StringIO object at 0x00000258574B8B80>\n",
      "[09:50:34] Progress: 460/466 (98.7%) ETA: 00:33:31Error processing sequence: <urlopen error [WinError 10061] Подключение не установлено, т.к. конечный компьютер отверг запрос на подключение>\n",
      "[09:50:49] Progress: 461/466 (98.9%) ETA: 00:27:52"
     ]
    },
    {
     "name": "stderr",
     "output_type": "stream",
     "text": [
      "c:\\Users\\anna6\\OneDrive\\Документы\\Blast_for_prot_names\\.venv\\lib\\site-packages\\Bio\\Blast\\NCBIWWW.py:275: BiopythonWarning: BLAST request 10XPAWRP013 is taking longer than 10 minutes, consider re-issuing it\n",
      "  warnings.warn(\n"
     ]
    },
    {
     "name": "stdout",
     "output_type": "stream",
     "text": [
      "<_io.StringIO object at 0x00000258574B8F70>\n",
      "[10:28:56] Progress: 462/466 (99.1%) ETA: 00:22:35<_io.StringIO object at 0x00000258574B8F70>\n",
      "[10:33:16] Progress: 463/466 (99.4%) ETA: 00:16:55<_io.StringIO object at 0x00000258574B8F70>\n",
      "[10:39:36] Progress: 464/466 (99.6%) ETA: 00:11:17"
     ]
    },
    {
     "name": "stderr",
     "output_type": "stream",
     "text": [
      "c:\\Users\\anna6\\OneDrive\\Документы\\Blast_for_prot_names\\.venv\\lib\\site-packages\\Bio\\Blast\\NCBIWWW.py:275: BiopythonWarning: BLAST request 110HTM63016 is taking longer than 10 minutes, consider re-issuing it\n",
      "  warnings.warn(\n"
     ]
    },
    {
     "name": "stdout",
     "output_type": "stream",
     "text": [
      "<_io.StringIO object at 0x00000258574B8F70>\n",
      "[11:07:56] Progress: 465/466 (99.8%) ETA: 00:05:41<_io.StringIO object at 0x00000258574B8F70>\n",
      "[11:12:16] Progress: 466/466 (100.0%) ETA: 00:00:00<_io.StringIO object at 0x00000258574B8F70>\n",
      "[11:16:35] Progress: 467/466 (100.2%) ETA: 23:54:18<_io.StringIO object at 0x00000258574B8F70>\n",
      "\n",
      "\n",
      "Total time: 20:20:29\n"
     ]
    }
   ],
   "source": [
    "ssl._create_default_https_context = ssl._create_unverified_context\n",
    "\n",
    "def merge_intervals(intervals):\n",
    "    \"\"\"Объединение перекрывающихся интервалов\"\"\"\n",
    "    if not intervals:\n",
    "        return []\n",
    "    sorted_intervals = sorted(intervals, key=lambda x: x[0])\n",
    "    merged = [sorted_intervals[0]]\n",
    "    for current in sorted_intervals[1:]:\n",
    "        last = merged[-1]\n",
    "        if current[0] <= last[1] + 1:\n",
    "            merged[-1] = (last[0], max(last[1], current[1]))\n",
    "        else:\n",
    "            merged.append(current)\n",
    "    return merged\n",
    "\n",
    "def calculate_coverage(intervals, query_length):\n",
    "    \"\"\"Расчет процента покрытия\"\"\"\n",
    "    merged = merge_intervals(intervals)\n",
    "    total = sum(end - start + 1 for start, end in merged)\n",
    "    return (total / query_length) * 100\n",
    "\n",
    "\n",
    "def process_blast(sequence):\n",
    "    \"\"\"Выполнение BLASTP и парсинг результатов\"\"\"\n",
    "    try:\n",
    "        result_handle = NCBIWWW.qblast(\n",
    "            program=\"blastp\",\n",
    "            database=\"nr\",\n",
    "            sequence=sequence,\n",
    "            expect=0.001,\n",
    "            hitlist_size=1,\n",
    "            #timeout=300\n",
    "        )\n",
    "        blast_record = next(NCBIXML.parse(result_handle))\n",
    "        result_handle.close()\n",
    "        \n",
    "        if not blast_record.alignments:\n",
    "            return None\n",
    "\n",
    "        best_hit = blast_record.alignments[0]\n",
    "        intervals = []\n",
    "        \n",
    "        for hsp in best_hit.hsps:\n",
    "            start = min(hsp.query_start, hsp.query_end)\n",
    "            end = max(hsp.query_start, hsp.query_end)\n",
    "            intervals.append((start, end))\n",
    "        \n",
    "        coverage = calculate_coverage(intervals, len(sequence))\n",
    "        best_evalue = min(hsp.expect for hsp in best_hit.hsps)\n",
    "        main_description = best_hit.hit_def.split('>')[0].strip()\n",
    "\n",
    "        print(result_handle)\n",
    "\n",
    "        return {\n",
    "            'description': main_description,\n",
    "            'accession': best_hit.accession,\n",
    "            'coverage': round(coverage, 2),\n",
    "            'evalue': best_evalue\n",
    "        }\n",
    "    \n",
    "    except Exception as e:\n",
    "        print(f\"Error processing sequence: {str(e)}\")\n",
    "        return None\n",
    "\n",
    "def main(input_csv, output_csv, sequence_column):\n",
    "    \"\"\"Основная функция обработки\"\"\"\n",
    "    # Подсчет общего количества запросов\n",
    "    with open(input_csv, 'r') as f:\n",
    "        total = sum(1 for _ in csv.DictReader(f)) - 1  # Исключаем заголовок\n",
    "    \n",
    "    # Инициализация прогресса\n",
    "    processed = 0\n",
    "    start_time = time.time()\n",
    "    \n",
    "    with open(input_csv, 'r') as infile, open(output_csv, 'w', newline='') as outfile:\n",
    "        reader = csv.DictReader(infile)\n",
    "        writer = csv.DictWriter(outfile, fieldnames=[\n",
    "            'Original_Sequence', 'Description', 'Accession', 'Coverage', 'Evalue'\n",
    "        ])\n",
    "        writer.writeheader()\n",
    "        \n",
    "        for row in reader:\n",
    "            processed += 1\n",
    "            seq = row[sequence_column].strip()\n",
    "            \n",
    "            # Вывод прогресса\n",
    "            progress = processed / total * 100\n",
    "            elapsed = time.time() - start_time\n",
    "            eta = (elapsed / processed) * (total - processed) if processed else 0\n",
    "            print(f\"\\r[{time.strftime('%H:%M:%S')}] \"\n",
    "                  f\"Progress: {processed}/{total} ({progress:.1f}%) \"\n",
    "                  f\"ETA: {time.strftime('%H:%M:%S', time.gmtime(eta))}\",\n",
    "                  end=\"\", flush=True)\n",
    "            \n",
    "            # Обработка последовательности\n",
    "            result = process_blast(seq)\n",
    "            time.sleep(5)  # Соблюдение лимитов NCBI\n",
    "            \n",
    "            # Запись результатов\n",
    "            writer.writerow({\n",
    "                'Original_Sequence': seq,\n",
    "                'Description': result['description'] if result else 'N/A',\n",
    "                 'Accession': result['accession'] if result else 'N/A',\n",
    "                'Coverage': f\"{result['coverage']}%\" if result else 'N/A',\n",
    "                'Evalue': f\"{result['evalue']:.2e}\" if result else 'N/A'\n",
    "            })\n",
    "    \n",
    "    print(f\"\\n\\nTotal time: {time.strftime('%H:%M:%S', time.gmtime(time.time() - start_time))}\")\n",
    "\n",
    "if __name__ == \"__main__\":\n",
    "    main(\n",
    "        input_csv=\"proteins_1_copy.csv\",\n",
    "        output_csv=\"results_1_copy.csv\",\n",
    "        sequence_column=\"content\"\n",
    "    )"
   ]
  }
 ],
 "metadata": {
  "kernelspec": {
   "display_name": ".venv",
   "language": "python",
   "name": "python3"
  },
  "language_info": {
   "codemirror_mode": {
    "name": "ipython",
    "version": 3
   },
   "file_extension": ".py",
   "mimetype": "text/x-python",
   "name": "python",
   "nbconvert_exporter": "python",
   "pygments_lexer": "ipython3",
   "version": "3.9.9"
  }
 },
 "nbformat": 4,
 "nbformat_minor": 5
}
