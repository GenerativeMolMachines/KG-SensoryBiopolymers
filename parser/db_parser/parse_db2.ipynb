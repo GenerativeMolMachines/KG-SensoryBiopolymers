{
 "cells": [
  {
   "cell_type": "code",
   "execution_count": 1,
   "id": "ff783a17-ad80-4cbe-889f-b465c104f048",
   "metadata": {},
   "outputs": [],
   "source": [
    "from bs4 import * \n",
    "import requests"
   ]
  },
  {
   "cell_type": "code",
   "execution_count": 2,
   "id": "532cadaa-c3c1-4691-9570-314d5b731f92",
   "metadata": {},
   "outputs": [],
   "source": [
    "req = requests.get(\"https://webs.iiitd.edu.in/raghava/prrdb2/browse_sub1.php?token=TLR&col=9\")\n",
    "soup = BeautifulSoup(req.text, \"html.parser\")\n",
    "table = soup.find('table')\n",
    "table_body = table.find('tbody')\n",
    "\n",
    "data = []\n",
    "rows = table_body.find_all('tr')\n"
   ]
  },
  {
   "cell_type": "code",
   "execution_count": 13,
   "id": "7231233e-266e-4736-8080-026561ab7b3e",
   "metadata": {},
   "outputs": [],
   "source": [
    "res = str(table).split(\">PRR\")"
   ]
  },
  {
   "cell_type": "code",
   "execution_count": 31,
   "id": "432b07e0-68d7-45b6-90d7-a76a9e98eab6",
   "metadata": {},
   "outputs": [],
   "source": [
    "res = res[1:]"
   ]
  },
  {
   "cell_type": "code",
   "execution_count": 25,
   "id": "52396205-9ad5-43bb-8750-4f5033d8194d",
   "metadata": {},
   "outputs": [],
   "source": [
    "for i in range(len(res)):\n",
    "    res[i] = res[i].split(\"</td><td>\")"
   ]
  },
  {
   "cell_type": "code",
   "execution_count": 39,
   "id": "f854852a-8cd5-4d87-8368-ef85488e5ab4",
   "metadata": {},
   "outputs": [
    {
     "data": {
      "text/plain": [
       "100"
      ]
     },
     "execution_count": 39,
     "metadata": {},
     "output_type": "execute_result"
    }
   ],
   "source": [
    "len(res)"
   ]
  },
  {
   "cell_type": "code",
   "execution_count": null,
   "id": "029ad95d-c9a4-40cf-8110-1d9847ba3dcd",
   "metadata": {},
   "outputs": [],
   "source": []
  }
 ],
 "metadata": {
  "kernelspec": {
   "display_name": "Python 3 (ipykernel)",
   "language": "python",
   "name": "python3"
  },
  "language_info": {
   "codemirror_mode": {
    "name": "ipython",
    "version": 3
   },
   "file_extension": ".py",
   "mimetype": "text/x-python",
   "name": "python",
   "nbconvert_exporter": "python",
   "pygments_lexer": "ipython3",
   "version": "3.12.4"
  }
 },
 "nbformat": 4,
 "nbformat_minor": 5
}
