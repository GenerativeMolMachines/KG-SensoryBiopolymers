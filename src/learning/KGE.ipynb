{
  "nbformat": 4,
  "nbformat_minor": 0,
  "metadata": {
    "colab": {
      "provenance": [],
      "machine_shape": "hm"
    },
    "kernelspec": {
      "name": "python3",
      "display_name": "Python 3"
    },
    "language_info": {
      "name": "python"
    }
  },
  "cells": [
    {
      "cell_type": "code",
      "source": [
        "#!pip install --upgrade git+https://github.com/pykeen/pykeen.git@master"
      ],
      "metadata": {
        "id": "xoS_BDVT2Pf1"
      },
      "execution_count": null,
      "outputs": []
    },
    {
      "cell_type": "code",
      "execution_count": null,
      "metadata": {
        "id": "sLoKEfxTJWf5"
      },
      "outputs": [],
      "source": [
        "!pip install pykeen #pandas numpy scikit-learn matplotlib seaborn"
      ]
    },
    {
      "cell_type": "code",
      "source": [
        "import pandas as pd\n",
        "import numpy as np\n",
        "import torch\n",
        "from pykeen.triples import TriplesFactory\n",
        "from pykeen.pipeline import pipeline\n",
        "from pykeen.evaluation import RankBasedEvaluator\n",
        "from pykeen import predict\n",
        "import matplotlib.pyplot as plt\n",
        "import seaborn as sns\n",
        "from sklearn.decomposition import PCA\n",
        "from sklearn.cluster import KMeans\n",
        "import warnings\n",
        "warnings.filterwarnings(\"ignore\")"
      ],
      "metadata": {
        "id": "HUh4Fsr5MXAW"
      },
      "execution_count": null,
      "outputs": []
    },
    {
      "cell_type": "code",
      "source": [
        "from google.colab import drive\n",
        "drive.mount('/content/drive')"
      ],
      "metadata": {
        "id": "4t7DiAhVMaaN"
      },
      "execution_count": null,
      "outputs": []
    },
    {
      "cell_type": "code",
      "source": [
        "############################################\n",
        "# 1. Определение устройства: GPU или CPU\n",
        "############################################\n",
        "device = \"cuda\" if torch.cuda.is_available() else \"cpu\"\n",
        "print(\"Используем устройство:\", device)"
      ],
      "metadata": {
        "id": "oKgdET_8MclO"
      },
      "execution_count": null,
      "outputs": []
    },
    {
      "cell_type": "code",
      "source": [
        "############################################\n",
        "# 2. Загрузка данных и создание TriplesFactory\n",
        "############################################\n",
        "df = pd.read_csv('drive/MyDrive/knowledge_graph/kge_triples_all.csv')\n",
        "print(\"Количество троек в датасете:\", df.shape[0])\n",
        "\n",
        "# Преобразуем DataFrame в массив троек\n",
        "triples = df[['subject', 'predicate', 'object']].to_numpy()\n",
        "\n",
        "# Создаём TriplesFactory (формируются entity_to_id и relation_to_id)\n",
        "tf = TriplesFactory.from_labeled_triples(triples)\n",
        "print(\"Количество уникальных сущностей:\", len(tf.entity_to_id))\n",
        "print(\"Количество уникальных отношений:\", len(tf.relation_to_id))"
      ],
      "metadata": {
        "id": "HXmpeYrOLGxQ"
      },
      "execution_count": null,
      "outputs": []
    },
    {
      "cell_type": "code",
      "source": [
        "############################################\n",
        "# 3. 80% train, 10% validation, 10% test\n",
        "############################################\n",
        "train_tf, valid_tf, test_tf = tf.split([0.8, 0.1, 0.1], random_state=42)\n",
        "print(\"Тройки в обучающем наборе:\", train_tf.num_triples)\n",
        "print(\"Тройки в валидационном наборе:\", valid_tf.num_triples)\n",
        "print(\"Тройки в тестовом наборе:\", test_tf.num_triples)"
      ],
      "metadata": {
        "id": "5D-zlt_dMLUY"
      },
      "execution_count": null,
      "outputs": []
    },
    {
      "cell_type": "code",
      "source": [
        "############################################\n",
        "# 4. Обучение модели TransE/ComplEx/RotatE\n",
        "############################################\n",
        "result = pipeline(\n",
        "    training=train_tf,\n",
        "    validation=valid_tf,\n",
        "    testing=test_tf,\n",
        "    model=\"RotatE\",  # Выбираем модель TransE/ComplEx/RotatE\n",
        "    model_kwargs=dict(embedding_dim=400),\n",
        "    training_kwargs=dict(num_epochs=100, batch_size=128),\n",
        "    optimizer=\"adam\",\n",
        "    optimizer_kwargs=dict(lr=0.001),\n",
        "    random_seed=42,\n",
        "    device=device,\n",
        ")"
      ],
      "metadata": {
        "id": "6WVhTrgEMUtU"
      },
      "execution_count": null,
      "outputs": []
    },
    {
      "cell_type": "code",
      "source": [
        "# Выводим агрегированные метрики из pipeline\n",
        "print(\"Результаты pipeline (метрики):\")\n",
        "result.metric_results.to_df()"
      ],
      "metadata": {
        "id": "Xao1y0mIMXjE"
      },
      "execution_count": null,
      "outputs": []
    },
    {
      "cell_type": "code",
      "source": [
        "############################################\n",
        "# 5. Оценка модели с использованием RankBasedEvaluator для модели RotatE\n",
        "############################################\n",
        "evaluator = RankBasedEvaluator(filtered=True)\n",
        "metrics_result = evaluator.evaluate(\n",
        "    model=result.model,\n",
        "    mapped_triples=test_tf.mapped_triples,\n",
        "    additional_filter_triples=[train_tf.mapped_triples, valid_tf.mapped_triples],\n",
        ")\n",
        "\n",
        "print(\"Оценка модели RankBasedEvaluator:\")\n",
        "print(\"Mean Rank:\", metrics_result.get_metric(\"mean_rank\"))\n",
        "print(\"Mean Reciprocal Rank (MRR):\", metrics_result.get_metric(\"mean_reciprocal_rank\"))\n",
        "print(\"Hits@1:\", metrics_result.get_metric(\"hits_at_1\"))\n",
        "print(\"Hits@10:\", metrics_result.get_metric(\"hits_at_10\"))"
      ],
      "metadata": {
        "id": "8vjmGKU6OocE"
      },
      "execution_count": null,
      "outputs": []
    },
    {
      "cell_type": "code",
      "source": [
        "#################################################\n",
        "# 9. Сохранение обученной модели и ее мета-данных\n",
        "#################################################\n",
        "\n",
        "result.save_to_directory(\"drive/MyDrive/knowledge_graph/RotatE_model\")\n",
        "print(\"Модель и метаданные сохранены\")"
      ],
      "metadata": {
        "id": "vryDKgosg9D_"
      },
      "execution_count": null,
      "outputs": []
    },
    {
      "cell_type": "code",
      "source": [
        "############################################\n",
        "# 7. Кластеризация\n",
        "############################################\n",
        "\n",
        "# Получаем эмбеддинги сущностей\n",
        "entity_embeddings_tensor = result.model.entity_representations[0]()\n",
        "entity_embeddings_tensor = entity_embeddings_tensor.detach().cpu()\n",
        "\n",
        "print(\"Тип данных эмбеддингов:\", entity_embeddings_tensor.dtype)\n",
        "#print(\"Пример эмбеддинга:\", entity_embeddings_tensor[0])\n",
        "\n",
        "entity_embeddings_real = entity_embeddings_tensor.real.numpy()\n",
        "entity_embeddings_imag = entity_embeddings_tensor.imag.numpy()\n",
        "\n",
        "entity_embeddings_combined = np.concatenate([entity_embeddings_real, entity_embeddings_imag], axis=1)\n",
        "print(\"Размерность после объединения:\", entity_embeddings_combined.shape)"
      ],
      "metadata": {
        "id": "3lVHadJBUKpm"
      },
      "execution_count": null,
      "outputs": []
    },
    {
      "cell_type": "code",
      "source": [
        "pca = PCA(n_components=0.95)\n",
        "embeddings_pca = pca.fit_transform(entity_embeddings_combined)\n",
        "\n",
        "print(\"Размерность после PCA:\", embeddings_pca.shape)"
      ],
      "metadata": {
        "id": "r1pVlc0vUPn8"
      },
      "execution_count": null,
      "outputs": []
    },
    {
      "cell_type": "code",
      "source": [
        "# Получаем отображение ID в Название сущности\n",
        "id_to_entity = {v: k for k, v in train_tf.entity_to_id.items()}\n",
        "entities = [id_to_entity[i] for i in range(len(id_to_entity))] # список ID сущностей"
      ],
      "metadata": {
        "id": "gqdZaPT4UTh4"
      },
      "execution_count": null,
      "outputs": []
    },
    {
      "cell_type": "code",
      "source": [
        "kmeans = KMeans(n_clusters=4, random_state=42)  # эти кластеры на картинке ничего не означают, их выделил к-средних, надо красить по типам (белок, пептид, днк, рнк и тд)\n",
        "clusters = kmeans.fit_predict(embeddings_pca)\n",
        "\n",
        "df_plot = pd.DataFrame({\n",
        "    \"entity\": entities,\n",
        "    \"PC1\": embeddings_pca[:, 0],\n",
        "    \"PC2\": embeddings_pca[:, 1],\n",
        "    \"cluster\": clusters\n",
        "})\n",
        "\n",
        "\n",
        "plt.figure(figsize=(10, 8))\n",
        "sns.scatterplot(data=df_plot, x=\"PC1\", y=\"PC2\", hue=\"cluster\", palette=\"deep\")\n",
        "plt.title(\"Кластеризация эмбеддингов сущностей (PCA)\")\n",
        "plt.xlabel(\"Компонента 1\")\n",
        "plt.ylabel(\"Компонента 2\")\n",
        "plt.legend(title=\"Кластер\")\n",
        "plt.show()"
      ],
      "metadata": {
        "id": "KUye6wc-UVdc"
      },
      "execution_count": null,
      "outputs": []
    },
    {
      "cell_type": "code",
      "source": [
        "############################################\n",
        "# 8. Информация о результатах кластеризации\n",
        "############################################\n",
        "df_clusters = pd.DataFrame({\n",
        "    \"entity\": entities,\n",
        "    \"cluster\": clusters\n",
        "})\n",
        "\n",
        "# сколько объектов в каждом кластере\n",
        "cluster_counts = df_clusters['cluster'].value_counts().sort_index()\n",
        "print(f\"Количество объектов в каждом кластере: {cluster_counts}\")\n",
        "print('========================')\n",
        "\n",
        "# примеры из каждого кластера\n",
        "print(\" === Примеры сущностей в кластерах: === \")\n",
        "for cluster_id in sorted(df_clusters['cluster'].unique()):\n",
        "    cluster_entities = df_clusters[df_clusters['cluster'] == cluster_id]['entity']\n",
        "    print(f\"Кластер {cluster_id} (всего {len(cluster_entities)} сущностей):\")\n",
        "    print(cluster_entities.sample(min(10, len(cluster_entities))).tolist())  # случайные 10\n",
        "    print('================================================================')"
      ],
      "metadata": {
        "id": "X2JS_MfvUjVK"
      },
      "execution_count": null,
      "outputs": []
    }
  ]
}